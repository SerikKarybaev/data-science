{
  "cells": [
    {
      "cell_type": "markdown",
      "id": "superior-hebrew",
      "metadata": {
        "id": "superior-hebrew"
      },
      "source": [
        "# \"Gender.\""
      ]
    },
    {
      "cell_type": "markdown",
      "id": "searching-minute",
      "metadata": {
        "id": "searching-minute"
      },
      "source": [
        "### _\"Classifying gender based on personal preferences\" (Binary classification task)._"
      ]
    },
    {
      "cell_type": "markdown",
      "id": "loving-square",
      "metadata": {
        "id": "loving-square"
      },
      "source": [
        "## Table of Contents\n",
        "\n",
        "\n",
        "## Part 0: Introduction\n",
        "\n",
        "### Overview\n",
        "The dataset that's we see here contains 5 columns and 66 entries of data about personal preferences based on gender.\n",
        "\n",
        "Gender is a social construct. The way males and females are treated differently since birth moulds their behaviour and personal preferences into what society expects for their gender.\n",
        "\n",
        "**Метаданные:**\n",
        "    \n",
        "* **Favorite Color** - Favorite color (colors reported by respondents were mapped to either warm, cool or neutral)\n",
        "\n",
        "* **Favorite Music Genre** - Favorite broad music genre\n",
        "\n",
        "* **Favorite Beverage** - Favorite alcoholic drink\n",
        "\n",
        "* **Favorite Soft Drink** - Favorite fizzy drink\n",
        "\n",
        "* **Gender** - Binary gender\n",
        "\n",
        "\n",
        "\n",
        "### Questions:\n",
        "    \n",
        "Predict a person's gender based on their personal preferences (check balance of classes; calculate perdictions)\n",
        "\n",
        "\n",
        "## [Part 1: Import, Load Data](#Part-1:-Import,-Load-Data.)\n",
        "* ### Import libraries, Read data from ‘.csv’ file\n",
        "\n",
        "## [Part 2: Exploratory Data Analysis](#Part-2:-Exploratory-Data-Analysis.)\n",
        "* ### Info, Head\n",
        "* ### Rename Columns\n",
        "* ### Columns visualisation\n",
        "* ### 'gender' attribute value counts\n",
        "* ### Encode the Data\n",
        "\n",
        "## [Part 3: Data Wrangling and Transformation](#Part-3:-Data-Wrangling-and-Transformation.)\n",
        "* ### Creating datasets for ML part\n",
        "* ### 'Train\\Test' splitting method\n",
        "\n",
        "## [Part 4: Machine Learning](#Part-4:-Machine-Learning.)\n",
        "* ### Build, train and evaluate model\n",
        "    * #### Logistic Regression\n",
        "    * #### Visualisation of predictions\n",
        "    * #### Classification report\n",
        "    * #### Confusion Matrix\n",
        "    * #### ROC-AUC score\n",
        "\n",
        "## [Conclusion](#Conclusion.)\n"
      ]
    },
    {
      "cell_type": "markdown",
      "id": "earlier-excerpt",
      "metadata": {
        "id": "earlier-excerpt"
      },
      "source": [
        "## Part 1: Import, Load Data."
      ]
    },
    {
      "cell_type": "markdown",
      "id": "composite-training",
      "metadata": {
        "id": "composite-training"
      },
      "source": [
        "* ### Import libraries"
      ]
    },
    {
      "cell_type": "code",
      "execution_count": 10,
      "id": "illegal-stockholm",
      "metadata": {
        "_cell_guid": "b1076dfc-b9ad-4769-8c92-a6c4dae69d19",
        "_uuid": "8f2839f25d086af736a60e9eeb907d3b93b6e0e5",
        "execution": {
          "iopub.execute_input": "2021-05-12T06:37:35.552073Z",
          "iopub.status.busy": "2021-05-12T06:37:35.550650Z",
          "iopub.status.idle": "2021-05-12T06:37:35.574536Z",
          "shell.execute_reply": "2021-05-12T06:37:35.575034Z"
        },
        "papermill": {
          "duration": 0.050276,
          "end_time": "2021-05-12T06:37:35.575327",
          "exception": false,
          "start_time": "2021-05-12T06:37:35.525051",
          "status": "completed"
        },
        "tags": [],
        "id": "illegal-stockholm"
      },
      "outputs": [],
      "source": [
        "# import standard libraries\n",
        "import numpy as np\n",
        "import pandas as pd\n",
        "import seaborn as sns\n",
        "sns.set()\n",
        "import matplotlib.pyplot as plt\n",
        "%matplotlib inline\n",
        "\n",
        "from sklearn.preprocessing import LabelEncoder, StandardScaler\n",
        "from sklearn.model_selection import train_test_split, GridSearchCV\n",
        "import sklearn.metrics as metrics\n",
        "from sklearn.metrics import accuracy_score, confusion_matrix, classification_report, roc_auc_score\n",
        "from sklearn.linear_model import LogisticRegression\n",
        "\n",
        "import warnings\n",
        "warnings.filterwarnings('ignore')\n"
      ]
    },
    {
      "cell_type": "code",
      "source": [
        "import os\n",
        "\n",
        "if os.path.exists('gender.csv'):\n",
        "    print('File exists')\n",
        "else:\n",
        "    print('File does not exist')"
      ],
      "metadata": {
        "id": "o3EUPVtPS0l9",
        "outputId": "3afa69c9-8789-4bc0-fc7d-c05c4bc9013c",
        "colab": {
          "base_uri": "https://localhost:8080/"
        }
      },
      "id": "o3EUPVtPS0l9",
      "execution_count": 13,
      "outputs": [
        {
          "output_type": "stream",
          "name": "stdout",
          "text": [
            "File does not exist\n"
          ]
        }
      ]
    },
    {
      "cell_type": "code",
      "source": [
        "from google.colab import files\n",
        "uploaded = files.upload()"
      ],
      "metadata": {
        "id": "duFAUgBCTFRS",
        "outputId": "c23b3710-fb8d-4d72-ae56-9b17b9d150ca",
        "colab": {
          "base_uri": "https://localhost:8080/",
          "height": 73
        }
      },
      "id": "duFAUgBCTFRS",
      "execution_count": 15,
      "outputs": [
        {
          "output_type": "display_data",
          "data": {
            "text/plain": [
              "<IPython.core.display.HTML object>"
            ],
            "text/html": [
              "\n",
              "     <input type=\"file\" id=\"files-839457fe-5197-4c59-9f32-98b906947be3\" name=\"files[]\" multiple disabled\n",
              "        style=\"border:none\" />\n",
              "     <output id=\"result-839457fe-5197-4c59-9f32-98b906947be3\">\n",
              "      Upload widget is only available when the cell has been executed in the\n",
              "      current browser session. Please rerun this cell to enable.\n",
              "      </output>\n",
              "      <script>// Copyright 2017 Google LLC\n",
              "//\n",
              "// Licensed under the Apache License, Version 2.0 (the \"License\");\n",
              "// you may not use this file except in compliance with the License.\n",
              "// You may obtain a copy of the License at\n",
              "//\n",
              "//      http://www.apache.org/licenses/LICENSE-2.0\n",
              "//\n",
              "// Unless required by applicable law or agreed to in writing, software\n",
              "// distributed under the License is distributed on an \"AS IS\" BASIS,\n",
              "// WITHOUT WARRANTIES OR CONDITIONS OF ANY KIND, either express or implied.\n",
              "// See the License for the specific language governing permissions and\n",
              "// limitations under the License.\n",
              "\n",
              "/**\n",
              " * @fileoverview Helpers for google.colab Python module.\n",
              " */\n",
              "(function(scope) {\n",
              "function span(text, styleAttributes = {}) {\n",
              "  const element = document.createElement('span');\n",
              "  element.textContent = text;\n",
              "  for (const key of Object.keys(styleAttributes)) {\n",
              "    element.style[key] = styleAttributes[key];\n",
              "  }\n",
              "  return element;\n",
              "}\n",
              "\n",
              "// Max number of bytes which will be uploaded at a time.\n",
              "const MAX_PAYLOAD_SIZE = 100 * 1024;\n",
              "\n",
              "function _uploadFiles(inputId, outputId) {\n",
              "  const steps = uploadFilesStep(inputId, outputId);\n",
              "  const outputElement = document.getElementById(outputId);\n",
              "  // Cache steps on the outputElement to make it available for the next call\n",
              "  // to uploadFilesContinue from Python.\n",
              "  outputElement.steps = steps;\n",
              "\n",
              "  return _uploadFilesContinue(outputId);\n",
              "}\n",
              "\n",
              "// This is roughly an async generator (not supported in the browser yet),\n",
              "// where there are multiple asynchronous steps and the Python side is going\n",
              "// to poll for completion of each step.\n",
              "// This uses a Promise to block the python side on completion of each step,\n",
              "// then passes the result of the previous step as the input to the next step.\n",
              "function _uploadFilesContinue(outputId) {\n",
              "  const outputElement = document.getElementById(outputId);\n",
              "  const steps = outputElement.steps;\n",
              "\n",
              "  const next = steps.next(outputElement.lastPromiseValue);\n",
              "  return Promise.resolve(next.value.promise).then((value) => {\n",
              "    // Cache the last promise value to make it available to the next\n",
              "    // step of the generator.\n",
              "    outputElement.lastPromiseValue = value;\n",
              "    return next.value.response;\n",
              "  });\n",
              "}\n",
              "\n",
              "/**\n",
              " * Generator function which is called between each async step of the upload\n",
              " * process.\n",
              " * @param {string} inputId Element ID of the input file picker element.\n",
              " * @param {string} outputId Element ID of the output display.\n",
              " * @return {!Iterable<!Object>} Iterable of next steps.\n",
              " */\n",
              "function* uploadFilesStep(inputId, outputId) {\n",
              "  const inputElement = document.getElementById(inputId);\n",
              "  inputElement.disabled = false;\n",
              "\n",
              "  const outputElement = document.getElementById(outputId);\n",
              "  outputElement.innerHTML = '';\n",
              "\n",
              "  const pickedPromise = new Promise((resolve) => {\n",
              "    inputElement.addEventListener('change', (e) => {\n",
              "      resolve(e.target.files);\n",
              "    });\n",
              "  });\n",
              "\n",
              "  const cancel = document.createElement('button');\n",
              "  inputElement.parentElement.appendChild(cancel);\n",
              "  cancel.textContent = 'Cancel upload';\n",
              "  const cancelPromise = new Promise((resolve) => {\n",
              "    cancel.onclick = () => {\n",
              "      resolve(null);\n",
              "    };\n",
              "  });\n",
              "\n",
              "  // Wait for the user to pick the files.\n",
              "  const files = yield {\n",
              "    promise: Promise.race([pickedPromise, cancelPromise]),\n",
              "    response: {\n",
              "      action: 'starting',\n",
              "    }\n",
              "  };\n",
              "\n",
              "  cancel.remove();\n",
              "\n",
              "  // Disable the input element since further picks are not allowed.\n",
              "  inputElement.disabled = true;\n",
              "\n",
              "  if (!files) {\n",
              "    return {\n",
              "      response: {\n",
              "        action: 'complete',\n",
              "      }\n",
              "    };\n",
              "  }\n",
              "\n",
              "  for (const file of files) {\n",
              "    const li = document.createElement('li');\n",
              "    li.append(span(file.name, {fontWeight: 'bold'}));\n",
              "    li.append(span(\n",
              "        `(${file.type || 'n/a'}) - ${file.size} bytes, ` +\n",
              "        `last modified: ${\n",
              "            file.lastModifiedDate ? file.lastModifiedDate.toLocaleDateString() :\n",
              "                                    'n/a'} - `));\n",
              "    const percent = span('0% done');\n",
              "    li.appendChild(percent);\n",
              "\n",
              "    outputElement.appendChild(li);\n",
              "\n",
              "    const fileDataPromise = new Promise((resolve) => {\n",
              "      const reader = new FileReader();\n",
              "      reader.onload = (e) => {\n",
              "        resolve(e.target.result);\n",
              "      };\n",
              "      reader.readAsArrayBuffer(file);\n",
              "    });\n",
              "    // Wait for the data to be ready.\n",
              "    let fileData = yield {\n",
              "      promise: fileDataPromise,\n",
              "      response: {\n",
              "        action: 'continue',\n",
              "      }\n",
              "    };\n",
              "\n",
              "    // Use a chunked sending to avoid message size limits. See b/62115660.\n",
              "    let position = 0;\n",
              "    do {\n",
              "      const length = Math.min(fileData.byteLength - position, MAX_PAYLOAD_SIZE);\n",
              "      const chunk = new Uint8Array(fileData, position, length);\n",
              "      position += length;\n",
              "\n",
              "      const base64 = btoa(String.fromCharCode.apply(null, chunk));\n",
              "      yield {\n",
              "        response: {\n",
              "          action: 'append',\n",
              "          file: file.name,\n",
              "          data: base64,\n",
              "        },\n",
              "      };\n",
              "\n",
              "      let percentDone = fileData.byteLength === 0 ?\n",
              "          100 :\n",
              "          Math.round((position / fileData.byteLength) * 100);\n",
              "      percent.textContent = `${percentDone}% done`;\n",
              "\n",
              "    } while (position < fileData.byteLength);\n",
              "  }\n",
              "\n",
              "  // All done.\n",
              "  yield {\n",
              "    response: {\n",
              "      action: 'complete',\n",
              "    }\n",
              "  };\n",
              "}\n",
              "\n",
              "scope.google = scope.google || {};\n",
              "scope.google.colab = scope.google.colab || {};\n",
              "scope.google.colab._files = {\n",
              "  _uploadFiles,\n",
              "  _uploadFilesContinue,\n",
              "};\n",
              "})(self);\n",
              "</script> "
            ]
          },
          "metadata": {}
        },
        {
          "output_type": "stream",
          "name": "stdout",
          "text": [
            "Saving gender.csv to gender (1).csv\n"
          ]
        }
      ]
    },
    {
      "cell_type": "markdown",
      "id": "clinical-williams",
      "metadata": {
        "papermill": {
          "duration": 0.020256,
          "end_time": "2021-05-12T06:37:35.617997",
          "exception": false,
          "start_time": "2021-05-12T06:37:35.597741",
          "status": "completed"
        },
        "tags": [],
        "id": "clinical-williams"
      },
      "source": [
        "* ### Read data from ‘.csv’ file"
      ]
    },
    {
      "cell_type": "code",
      "execution_count": 16,
      "id": "latter-philadelphia",
      "metadata": {
        "execution": {
          "iopub.execute_input": "2021-05-12T06:37:35.662611Z",
          "iopub.status.busy": "2021-05-12T06:37:35.661903Z",
          "iopub.status.idle": "2021-05-12T06:37:35.712174Z",
          "shell.execute_reply": "2021-05-12T06:37:35.711447Z"
        },
        "papermill": {
          "duration": 0.073936,
          "end_time": "2021-05-12T06:37:35.712323",
          "exception": false,
          "start_time": "2021-05-12T06:37:35.638387",
          "status": "completed"
        },
        "tags": [],
        "id": "latter-philadelphia"
      },
      "outputs": [],
      "source": [
        "# read data from '.csv' file\n",
        "df = pd.read_csv('gender.csv')\n",
        "\n"
      ]
    },
    {
      "cell_type": "markdown",
      "id": "infinite-grain",
      "metadata": {
        "id": "infinite-grain"
      },
      "source": [
        "## Part 2: Exploratory Data Analysis."
      ]
    },
    {
      "cell_type": "markdown",
      "id": "local-grant",
      "metadata": {
        "papermill": {
          "duration": 0.021453,
          "end_time": "2021-05-12T06:37:35.942783",
          "exception": false,
          "start_time": "2021-05-12T06:37:35.921330",
          "status": "completed"
        },
        "tags": [],
        "id": "local-grant"
      },
      "source": [
        "* ### Info"
      ]
    },
    {
      "cell_type": "code",
      "execution_count": 17,
      "id": "saved-tragedy",
      "metadata": {
        "execution": {
          "iopub.execute_input": "2021-05-12T06:37:35.995840Z",
          "iopub.status.busy": "2021-05-12T06:37:35.994818Z",
          "iopub.status.idle": "2021-05-12T06:37:35.999418Z",
          "shell.execute_reply": "2021-05-12T06:37:35.998890Z"
        },
        "papermill": {
          "duration": 0.034193,
          "end_time": "2021-05-12T06:37:35.999559",
          "exception": false,
          "start_time": "2021-05-12T06:37:35.965366",
          "status": "completed"
        },
        "scrolled": true,
        "tags": [],
        "id": "saved-tragedy",
        "outputId": "07150036-5eb8-40c6-f387-2d2a07be1465",
        "colab": {
          "base_uri": "https://localhost:8080/"
        }
      },
      "outputs": [
        {
          "output_type": "stream",
          "name": "stdout",
          "text": [
            "<class 'pandas.core.frame.DataFrame'>\n",
            "RangeIndex: 66 entries, 0 to 65\n",
            "Data columns (total 5 columns):\n",
            " #   Column                Non-Null Count  Dtype \n",
            "---  ------                --------------  ----- \n",
            " 0   Favorite Color        66 non-null     object\n",
            " 1   Favorite Music Genre  66 non-null     object\n",
            " 2   Favorite Beverage     66 non-null     object\n",
            " 3   Favorite Soft Drink   66 non-null     object\n",
            " 4   Gender                66 non-null     object\n",
            "dtypes: object(5)\n",
            "memory usage: 2.7+ KB\n"
          ]
        }
      ],
      "source": [
        "# print the full summary of the dataset\n",
        "df.info()"
      ]
    },
    {
      "cell_type": "markdown",
      "id": "informational-adoption",
      "metadata": {
        "id": "informational-adoption"
      },
      "source": [
        "Dataset consists of 66 rows and 5 columns;\n",
        "\n",
        "has 1 datatype: object(5);\n",
        "\n",
        "has no missing values."
      ]
    },
    {
      "cell_type": "markdown",
      "id": "educational-occupation",
      "metadata": {
        "id": "educational-occupation"
      },
      "source": [
        "* ### Head"
      ]
    },
    {
      "cell_type": "code",
      "source": [
        "# preview of the first 5 lines of the loaded data\n",
        "df.head()"
      ],
      "metadata": {
        "id": "7R_YUju6Yt4T",
        "outputId": "0a4648b2-5cd4-44ef-9221-40e1f3a8885f",
        "colab": {
          "base_uri": "https://localhost:8080/",
          "height": 206
        }
      },
      "id": "7R_YUju6Yt4T",
      "execution_count": 19,
      "outputs": [
        {
          "output_type": "execute_result",
          "data": {
            "text/plain": [
              "  Favorite Color Favorite Music Genre Favorite Beverage Favorite Soft Drink  \\\n",
              "0           Cool                 Rock             Vodka          7UP/Sprite   \n",
              "1        Neutral              Hip hop             Vodka     Coca Cola/Pepsi   \n",
              "2           Warm                 Rock              Wine     Coca Cola/Pepsi   \n",
              "3           Warm     Folk/Traditional           Whiskey               Fanta   \n",
              "4           Cool                 Rock             Vodka     Coca Cola/Pepsi   \n",
              "\n",
              "  Gender  \n",
              "0      F  \n",
              "1      F  \n",
              "2      F  \n",
              "3      F  \n",
              "4      F  "
            ],
            "text/html": [
              "\n",
              "  <div id=\"df-fcd0ce43-2d0e-4374-8000-c7b58acfaee5\" class=\"colab-df-container\">\n",
              "    <div>\n",
              "<style scoped>\n",
              "    .dataframe tbody tr th:only-of-type {\n",
              "        vertical-align: middle;\n",
              "    }\n",
              "\n",
              "    .dataframe tbody tr th {\n",
              "        vertical-align: top;\n",
              "    }\n",
              "\n",
              "    .dataframe thead th {\n",
              "        text-align: right;\n",
              "    }\n",
              "</style>\n",
              "<table border=\"1\" class=\"dataframe\">\n",
              "  <thead>\n",
              "    <tr style=\"text-align: right;\">\n",
              "      <th></th>\n",
              "      <th>Favorite Color</th>\n",
              "      <th>Favorite Music Genre</th>\n",
              "      <th>Favorite Beverage</th>\n",
              "      <th>Favorite Soft Drink</th>\n",
              "      <th>Gender</th>\n",
              "    </tr>\n",
              "  </thead>\n",
              "  <tbody>\n",
              "    <tr>\n",
              "      <th>0</th>\n",
              "      <td>Cool</td>\n",
              "      <td>Rock</td>\n",
              "      <td>Vodka</td>\n",
              "      <td>7UP/Sprite</td>\n",
              "      <td>F</td>\n",
              "    </tr>\n",
              "    <tr>\n",
              "      <th>1</th>\n",
              "      <td>Neutral</td>\n",
              "      <td>Hip hop</td>\n",
              "      <td>Vodka</td>\n",
              "      <td>Coca Cola/Pepsi</td>\n",
              "      <td>F</td>\n",
              "    </tr>\n",
              "    <tr>\n",
              "      <th>2</th>\n",
              "      <td>Warm</td>\n",
              "      <td>Rock</td>\n",
              "      <td>Wine</td>\n",
              "      <td>Coca Cola/Pepsi</td>\n",
              "      <td>F</td>\n",
              "    </tr>\n",
              "    <tr>\n",
              "      <th>3</th>\n",
              "      <td>Warm</td>\n",
              "      <td>Folk/Traditional</td>\n",
              "      <td>Whiskey</td>\n",
              "      <td>Fanta</td>\n",
              "      <td>F</td>\n",
              "    </tr>\n",
              "    <tr>\n",
              "      <th>4</th>\n",
              "      <td>Cool</td>\n",
              "      <td>Rock</td>\n",
              "      <td>Vodka</td>\n",
              "      <td>Coca Cola/Pepsi</td>\n",
              "      <td>F</td>\n",
              "    </tr>\n",
              "  </tbody>\n",
              "</table>\n",
              "</div>\n",
              "    <div class=\"colab-df-buttons\">\n",
              "\n",
              "  <div class=\"colab-df-container\">\n",
              "    <button class=\"colab-df-convert\" onclick=\"convertToInteractive('df-fcd0ce43-2d0e-4374-8000-c7b58acfaee5')\"\n",
              "            title=\"Convert this dataframe to an interactive table.\"\n",
              "            style=\"display:none;\">\n",
              "\n",
              "  <svg xmlns=\"http://www.w3.org/2000/svg\" height=\"24px\" viewBox=\"0 -960 960 960\">\n",
              "    <path d=\"M120-120v-720h720v720H120Zm60-500h600v-160H180v160Zm220 220h160v-160H400v160Zm0 220h160v-160H400v160ZM180-400h160v-160H180v160Zm440 0h160v-160H620v160ZM180-180h160v-160H180v160Zm440 0h160v-160H620v160Z\"/>\n",
              "  </svg>\n",
              "    </button>\n",
              "\n",
              "  <style>\n",
              "    .colab-df-container {\n",
              "      display:flex;\n",
              "      gap: 12px;\n",
              "    }\n",
              "\n",
              "    .colab-df-convert {\n",
              "      background-color: #E8F0FE;\n",
              "      border: none;\n",
              "      border-radius: 50%;\n",
              "      cursor: pointer;\n",
              "      display: none;\n",
              "      fill: #1967D2;\n",
              "      height: 32px;\n",
              "      padding: 0 0 0 0;\n",
              "      width: 32px;\n",
              "    }\n",
              "\n",
              "    .colab-df-convert:hover {\n",
              "      background-color: #E2EBFA;\n",
              "      box-shadow: 0px 1px 2px rgba(60, 64, 67, 0.3), 0px 1px 3px 1px rgba(60, 64, 67, 0.15);\n",
              "      fill: #174EA6;\n",
              "    }\n",
              "\n",
              "    .colab-df-buttons div {\n",
              "      margin-bottom: 4px;\n",
              "    }\n",
              "\n",
              "    [theme=dark] .colab-df-convert {\n",
              "      background-color: #3B4455;\n",
              "      fill: #D2E3FC;\n",
              "    }\n",
              "\n",
              "    [theme=dark] .colab-df-convert:hover {\n",
              "      background-color: #434B5C;\n",
              "      box-shadow: 0px 1px 3px 1px rgba(0, 0, 0, 0.15);\n",
              "      filter: drop-shadow(0px 1px 2px rgba(0, 0, 0, 0.3));\n",
              "      fill: #FFFFFF;\n",
              "    }\n",
              "  </style>\n",
              "\n",
              "    <script>\n",
              "      const buttonEl =\n",
              "        document.querySelector('#df-fcd0ce43-2d0e-4374-8000-c7b58acfaee5 button.colab-df-convert');\n",
              "      buttonEl.style.display =\n",
              "        google.colab.kernel.accessAllowed ? 'block' : 'none';\n",
              "\n",
              "      async function convertToInteractive(key) {\n",
              "        const element = document.querySelector('#df-fcd0ce43-2d0e-4374-8000-c7b58acfaee5');\n",
              "        const dataTable =\n",
              "          await google.colab.kernel.invokeFunction('convertToInteractive',\n",
              "                                                    [key], {});\n",
              "        if (!dataTable) return;\n",
              "\n",
              "        const docLinkHtml = 'Like what you see? Visit the ' +\n",
              "          '<a target=\"_blank\" href=https://colab.research.google.com/notebooks/data_table.ipynb>data table notebook</a>'\n",
              "          + ' to learn more about interactive tables.';\n",
              "        element.innerHTML = '';\n",
              "        dataTable['output_type'] = 'display_data';\n",
              "        await google.colab.output.renderOutput(dataTable, element);\n",
              "        const docLink = document.createElement('div');\n",
              "        docLink.innerHTML = docLinkHtml;\n",
              "        element.appendChild(docLink);\n",
              "      }\n",
              "    </script>\n",
              "  </div>\n",
              "\n",
              "\n",
              "<div id=\"df-0baa180c-2590-4976-b6d0-994a03e97f34\">\n",
              "  <button class=\"colab-df-quickchart\" onclick=\"quickchart('df-0baa180c-2590-4976-b6d0-994a03e97f34')\"\n",
              "            title=\"Suggest charts.\"\n",
              "            style=\"display:none;\">\n",
              "\n",
              "<svg xmlns=\"http://www.w3.org/2000/svg\" height=\"24px\"viewBox=\"0 0 24 24\"\n",
              "     width=\"24px\">\n",
              "    <g>\n",
              "        <path d=\"M19 3H5c-1.1 0-2 .9-2 2v14c0 1.1.9 2 2 2h14c1.1 0 2-.9 2-2V5c0-1.1-.9-2-2-2zM9 17H7v-7h2v7zm4 0h-2V7h2v10zm4 0h-2v-4h2v4z\"/>\n",
              "    </g>\n",
              "</svg>\n",
              "  </button>\n",
              "\n",
              "<style>\n",
              "  .colab-df-quickchart {\n",
              "    background-color: #E8F0FE;\n",
              "    border: none;\n",
              "    border-radius: 50%;\n",
              "    cursor: pointer;\n",
              "    display: none;\n",
              "    fill: #1967D2;\n",
              "    height: 32px;\n",
              "    padding: 0 0 0 0;\n",
              "    width: 32px;\n",
              "  }\n",
              "\n",
              "  .colab-df-quickchart:hover {\n",
              "    background-color: #E2EBFA;\n",
              "    box-shadow: 0px 1px 2px rgba(60, 64, 67, 0.3), 0px 1px 3px 1px rgba(60, 64, 67, 0.15);\n",
              "    fill: #174EA6;\n",
              "  }\n",
              "\n",
              "  [theme=dark] .colab-df-quickchart {\n",
              "    background-color: #3B4455;\n",
              "    fill: #D2E3FC;\n",
              "  }\n",
              "\n",
              "  [theme=dark] .colab-df-quickchart:hover {\n",
              "    background-color: #434B5C;\n",
              "    box-shadow: 0px 1px 3px 1px rgba(0, 0, 0, 0.15);\n",
              "    filter: drop-shadow(0px 1px 2px rgba(0, 0, 0, 0.3));\n",
              "    fill: #FFFFFF;\n",
              "  }\n",
              "</style>\n",
              "\n",
              "  <script>\n",
              "    async function quickchart(key) {\n",
              "      const charts = await google.colab.kernel.invokeFunction(\n",
              "          'suggestCharts', [key], {});\n",
              "    }\n",
              "    (() => {\n",
              "      let quickchartButtonEl =\n",
              "        document.querySelector('#df-0baa180c-2590-4976-b6d0-994a03e97f34 button');\n",
              "      quickchartButtonEl.style.display =\n",
              "        google.colab.kernel.accessAllowed ? 'block' : 'none';\n",
              "    })();\n",
              "  </script>\n",
              "</div>\n",
              "    </div>\n",
              "  </div>\n"
            ]
          },
          "metadata": {},
          "execution_count": 19
        }
      ]
    },
    {
      "cell_type": "markdown",
      "id": "applicable-butter",
      "metadata": {
        "id": "applicable-butter"
      },
      "source": [
        "* ### Rename Columns"
      ]
    },
    {
      "cell_type": "code",
      "execution_count": 20,
      "id": "narrative-worship",
      "metadata": {
        "scrolled": true,
        "id": "narrative-worship",
        "outputId": "65ac2f8b-a7c6-4c4d-cdf9-9f6ac929e1b1",
        "colab": {
          "base_uri": "https://localhost:8080/"
        }
      },
      "outputs": [
        {
          "output_type": "execute_result",
          "data": {
            "text/plain": [
              "Index(['color', 'music', 'beverage', 'softdrink', 'gender'], dtype='object')"
            ]
          },
          "metadata": {},
          "execution_count": 20
        }
      ],
      "source": [
        "# columns rename\n",
        "df.columns = ['color', 'music', 'beverage', 'softdrink', 'gender']\n",
        "df.columns\n"
      ]
    },
    {
      "cell_type": "markdown",
      "id": "mexican-rally",
      "metadata": {
        "id": "mexican-rally"
      },
      "source": [
        "* ### Columns visualisation"
      ]
    },
    {
      "cell_type": "code",
      "execution_count": 21,
      "id": "through-revelation",
      "metadata": {
        "scrolled": false,
        "id": "through-revelation",
        "outputId": "0320b047-0f78-4ada-c3d0-d429340ec529",
        "colab": {
          "base_uri": "https://localhost:8080/",
          "height": 1000
        }
      },
      "outputs": [
        {
          "output_type": "display_data",
          "data": {
            "text/plain": [
              "<Figure size 1000x1800 with 5 Axes>"
            ],
            "image/png": "[encoded data removed]"
          },
          "metadata": {}
        }
      ],
      "source": [
        "# columns visualisation\n",
        "fig, axes = plt.subplots(nrows=5, ncols=1, figsize=(10,18))\n",
        "for i in range(len(df.columns)):\n",
        "    sns.countplot(data=df, x=df.iloc[:,i],ax=axes[i])"
      ]
    },
    {
      "cell_type": "markdown",
      "id": "particular-basement",
      "metadata": {
        "id": "particular-basement"
      },
      "source": [
        "* ### 'gender' attribute value counts"
      ]
    },
    {
      "cell_type": "code",
      "execution_count": 22,
      "id": "cosmetic-mechanics",
      "metadata": {
        "scrolled": true,
        "id": "cosmetic-mechanics",
        "outputId": "0db1f6dd-0396-49b5-901f-067d61e383b4",
        "colab": {
          "base_uri": "https://localhost:8080/"
        }
      },
      "outputs": [
        {
          "output_type": "execute_result",
          "data": {
            "text/plain": [
              "F    33\n",
              "M    33\n",
              "Name: gender, dtype: int64"
            ]
          },
          "metadata": {},
          "execution_count": 22
        }
      ],
      "source": [
        "# 'gender' value counts\n",
        "df['gender'].value_counts()"
      ]
    },
    {
      "cell_type": "markdown",
      "id": "primary-agreement",
      "metadata": {
        "id": "primary-agreement"
      },
      "source": [
        "There are 33 of 'Female' and 33 of 'Male' in our dataset. This means that our dataset is balanced."
      ]
    },
    {
      "cell_type": "markdown",
      "id": "accepted-texas",
      "metadata": {
        "papermill": {
          "duration": 0.02239,
          "end_time": "2021-05-12T06:37:36.285297",
          "exception": false,
          "start_time": "2021-05-12T06:37:36.262907",
          "status": "completed"
        },
        "tags": [],
        "id": "accepted-texas"
      },
      "source": [
        "* ### Encode the Data"
      ]
    },
    {
      "cell_type": "code",
      "execution_count": 23,
      "id": "particular-collect",
      "metadata": {
        "execution": {
          "iopub.execute_input": "2021-05-12T06:37:36.333225Z",
          "iopub.status.busy": "2021-05-12T06:37:36.332597Z",
          "iopub.status.idle": "2021-05-12T06:37:37.594161Z",
          "shell.execute_reply": "2021-05-12T06:37:37.593612Z"
        },
        "papermill": {
          "duration": 1.286573,
          "end_time": "2021-05-12T06:37:37.594309",
          "exception": false,
          "start_time": "2021-05-12T06:37:36.307736",
          "status": "completed"
        },
        "scrolled": true,
        "tags": [],
        "id": "particular-collect",
        "outputId": "2c1ff020-9f16-45cf-ada3-654a34fafa32",
        "colab": {
          "base_uri": "https://localhost:8080/",
          "height": 206
        }
      },
      "outputs": [
        {
          "output_type": "execute_result",
          "data": {
            "text/plain": [
              "   color  music  beverage  softdrink  gender\n",
              "0      0      6         3          0       0\n",
              "1      1      2         3          1       0\n",
              "2      2      6         5          1       0\n",
              "3      2      1         4          2       0\n",
              "4      0      6         3          1       0"
            ],
            "text/html": [
              "\n",
              "  <div id=\"df-00c74ace-d9eb-4aa8-bbd4-7982a65e2f29\" class=\"colab-df-container\">\n",
              "    <div>\n",
              "<style scoped>\n",
              "    .dataframe tbody tr th:only-of-type {\n",
              "        vertical-align: middle;\n",
              "    }\n",
              "\n",
              "    .dataframe tbody tr th {\n",
              "        vertical-align: top;\n",
              "    }\n",
              "\n",
              "    .dataframe thead th {\n",
              "        text-align: right;\n",
              "    }\n",
              "</style>\n",
              "<table border=\"1\" class=\"dataframe\">\n",
              "  <thead>\n",
              "    <tr style=\"text-align: right;\">\n",
              "      <th></th>\n",
              "      <th>color</th>\n",
              "      <th>music</th>\n",
              "      <th>beverage</th>\n",
              "      <th>softdrink</th>\n",
              "      <th>gender</th>\n",
              "    </tr>\n",
              "  </thead>\n",
              "  <tbody>\n",
              "    <tr>\n",
              "      <th>0</th>\n",
              "      <td>0</td>\n",
              "      <td>6</td>\n",
              "      <td>3</td>\n",
              "      <td>0</td>\n",
              "      <td>0</td>\n",
              "    </tr>\n",
              "    <tr>\n",
              "      <th>1</th>\n",
              "      <td>1</td>\n",
              "      <td>2</td>\n",
              "      <td>3</td>\n",
              "      <td>1</td>\n",
              "      <td>0</td>\n",
              "    </tr>\n",
              "    <tr>\n",
              "      <th>2</th>\n",
              "      <td>2</td>\n",
              "      <td>6</td>\n",
              "      <td>5</td>\n",
              "      <td>1</td>\n",
              "      <td>0</td>\n",
              "    </tr>\n",
              "    <tr>\n",
              "      <th>3</th>\n",
              "      <td>2</td>\n",
              "      <td>1</td>\n",
              "      <td>4</td>\n",
              "      <td>2</td>\n",
              "      <td>0</td>\n",
              "    </tr>\n",
              "    <tr>\n",
              "      <th>4</th>\n",
              "      <td>0</td>\n",
              "      <td>6</td>\n",
              "      <td>3</td>\n",
              "      <td>1</td>\n",
              "      <td>0</td>\n",
              "    </tr>\n",
              "  </tbody>\n",
              "</table>\n",
              "</div>\n",
              "    <div class=\"colab-df-buttons\">\n",
              "\n",
              "  <div class=\"colab-df-container\">\n",
              "    <button class=\"colab-df-convert\" onclick=\"convertToInteractive('df-00c74ace-d9eb-4aa8-bbd4-7982a65e2f29')\"\n",
              "            title=\"Convert this dataframe to an interactive table.\"\n",
              "            style=\"display:none;\">\n",
              "\n",
              "  <svg xmlns=\"http://www.w3.org/2000/svg\" height=\"24px\" viewBox=\"0 -960 960 960\">\n",
              "    <path d=\"M120-120v-720h720v720H120Zm60-500h600v-160H180v160Zm220 220h160v-160H400v160Zm0 220h160v-160H400v160ZM180-400h160v-160H180v160Zm440 0h160v-160H620v160ZM180-180h160v-160H180v160Zm440 0h160v-160H620v160Z\"/>\n",
              "  </svg>\n",
              "    </button>\n",
              "\n",
              "  <style>\n",
              "    .colab-df-container {\n",
              "      display:flex;\n",
              "      gap: 12px;\n",
              "    }\n",
              "\n",
              "    .colab-df-convert {\n",
              "      background-color: #E8F0FE;\n",
              "      border: none;\n",
              "      border-radius: 50%;\n",
              "      cursor: pointer;\n",
              "      display: none;\n",
              "      fill: #1967D2;\n",
              "      height: 32px;\n",
              "      padding: 0 0 0 0;\n",
              "      width: 32px;\n",
              "    }\n",
              "\n",
              "    .colab-df-convert:hover {\n",
              "      background-color: #E2EBFA;\n",
              "      box-shadow: 0px 1px 2px rgba(60, 64, 67, 0.3), 0px 1px 3px 1px rgba(60, 64, 67, 0.15);\n",
              "      fill: #174EA6;\n",
              "    }\n",
              "\n",
              "    .colab-df-buttons div {\n",
              "      margin-bottom: 4px;\n",
              "    }\n",
              "\n",
              "    [theme=dark] .colab-df-convert {\n",
              "      background-color: #3B4455;\n",
              "      fill: #D2E3FC;\n",
              "    }\n",
              "\n",
              "    [theme=dark] .colab-df-convert:hover {\n",
              "      background-color: #434B5C;\n",
              "      box-shadow: 0px 1px 3px 1px rgba(0, 0, 0, 0.15);\n",
              "      filter: drop-shadow(0px 1px 2px rgba(0, 0, 0, 0.3));\n",
              "      fill: #FFFFFF;\n",
              "    }\n",
              "  </style>\n",
              "\n",
              "    <script>\n",
              "      const buttonEl =\n",
              "        document.querySelector('#df-00c74ace-d9eb-4aa8-bbd4-7982a65e2f29 button.colab-df-convert');\n",
              "      buttonEl.style.display =\n",
              "        google.colab.kernel.accessAllowed ? 'block' : 'none';\n",
              "\n",
              "      async function convertToInteractive(key) {\n",
              "        const element = document.querySelector('#df-00c74ace-d9eb-4aa8-bbd4-7982a65e2f29');\n",
              "        const dataTable =\n",
              "          await google.colab.kernel.invokeFunction('convertToInteractive',\n",
              "                                                    [key], {});\n",
              "        if (!dataTable) return;\n",
              "\n",
              "        const docLinkHtml = 'Like what you see? Visit the ' +\n",
              "          '<a target=\"_blank\" href=https://colab.research.google.com/notebooks/data_table.ipynb>data table notebook</a>'\n",
              "          + ' to learn more about interactive tables.';\n",
              "        element.innerHTML = '';\n",
              "        dataTable['output_type'] = 'display_data';\n",
              "        await google.colab.output.renderOutput(dataTable, element);\n",
              "        const docLink = document.createElement('div');\n",
              "        docLink.innerHTML = docLinkHtml;\n",
              "        element.appendChild(docLink);\n",
              "      }\n",
              "    </script>\n",
              "  </div>\n",
              "\n",
              "\n",
              "<div id=\"df-59927a0d-09b6-41ec-9fb7-b31d33fdab9a\">\n",
              "  <button class=\"colab-df-quickchart\" onclick=\"quickchart('df-59927a0d-09b6-41ec-9fb7-b31d33fdab9a')\"\n",
              "            title=\"Suggest charts.\"\n",
              "            style=\"display:none;\">\n",
              "\n",
              "<svg xmlns=\"http://www.w3.org/2000/svg\" height=\"24px\"viewBox=\"0 0 24 24\"\n",
              "     width=\"24px\">\n",
              "    <g>\n",
              "        <path d=\"M19 3H5c-1.1 0-2 .9-2 2v14c0 1.1.9 2 2 2h14c1.1 0 2-.9 2-2V5c0-1.1-.9-2-2-2zM9 17H7v-7h2v7zm4 0h-2V7h2v10zm4 0h-2v-4h2v4z\"/>\n",
              "    </g>\n",
              "</svg>\n",
              "  </button>\n",
              "\n",
              "<style>\n",
              "  .colab-df-quickchart {\n",
              "    background-color: #E8F0FE;\n",
              "    border: none;\n",
              "    border-radius: 50%;\n",
              "    cursor: pointer;\n",
              "    display: none;\n",
              "    fill: #1967D2;\n",
              "    height: 32px;\n",
              "    padding: 0 0 0 0;\n",
              "    width: 32px;\n",
              "  }\n",
              "\n",
              "  .colab-df-quickchart:hover {\n",
              "    background-color: #E2EBFA;\n",
              "    box-shadow: 0px 1px 2px rgba(60, 64, 67, 0.3), 0px 1px 3px 1px rgba(60, 64, 67, 0.15);\n",
              "    fill: #174EA6;\n",
              "  }\n",
              "\n",
              "  [theme=dark] .colab-df-quickchart {\n",
              "    background-color: #3B4455;\n",
              "    fill: #D2E3FC;\n",
              "  }\n",
              "\n",
              "  [theme=dark] .colab-df-quickchart:hover {\n",
              "    background-color: #434B5C;\n",
              "    box-shadow: 0px 1px 3px 1px rgba(0, 0, 0, 0.15);\n",
              "    filter: drop-shadow(0px 1px 2px rgba(0, 0, 0, 0.3));\n",
              "    fill: #FFFFFF;\n",
              "  }\n",
              "</style>\n",
              "\n",
              "  <script>\n",
              "    async function quickchart(key) {\n",
              "      const charts = await google.colab.kernel.invokeFunction(\n",
              "          'suggestCharts', [key], {});\n",
              "    }\n",
              "    (() => {\n",
              "      let quickchartButtonEl =\n",
              "        document.querySelector('#df-59927a0d-09b6-41ec-9fb7-b31d33fdab9a button');\n",
              "      quickchartButtonEl.style.display =\n",
              "        google.colab.kernel.accessAllowed ? 'block' : 'none';\n",
              "    })();\n",
              "  </script>\n",
              "</div>\n",
              "    </div>\n",
              "  </div>\n"
            ]
          },
          "metadata": {},
          "execution_count": 23
        }
      ],
      "source": [
        "# label encoding\n",
        "le_color = LabelEncoder()\n",
        "data = df\n",
        "data['color'] = le_color.fit_transform(df.color.values)\n",
        "le_music = LabelEncoder()\n",
        "data['music'] = le_music.fit_transform(df.music.values)\n",
        "le_beverage = LabelEncoder()\n",
        "data['beverage'] = le_beverage.fit_transform(df.beverage.values)\n",
        "le_softdrink = LabelEncoder()\n",
        "data['softdrink'] = le_softdrink.fit_transform(df.softdrink.values)\n",
        "le_gender = LabelEncoder()\n",
        "data['gender'] = le_gender.fit_transform(df.gender.values)\n",
        "data.head()"
      ]
    },
    {
      "cell_type": "markdown",
      "id": "sorted-mining",
      "metadata": {
        "id": "sorted-mining"
      },
      "source": [
        "## Part 3: Data Wrangling and Transformation."
      ]
    },
    {
      "cell_type": "markdown",
      "id": "received-vocabulary",
      "metadata": {
        "papermill": {
          "duration": 0.029702,
          "end_time": "2021-05-12T06:37:38.664858",
          "exception": false,
          "start_time": "2021-05-12T06:37:38.635156",
          "status": "completed"
        },
        "tags": [],
        "id": "received-vocabulary"
      },
      "source": [
        "* ### Creating datasets for ML part"
      ]
    },
    {
      "cell_type": "code",
      "execution_count": 24,
      "id": "acute-feeding",
      "metadata": {
        "execution": {
          "iopub.execute_input": "2021-05-12T06:37:38.722329Z",
          "iopub.status.busy": "2021-05-12T06:37:38.721379Z",
          "iopub.status.idle": "2021-05-12T06:37:38.806079Z",
          "shell.execute_reply": "2021-05-12T06:37:38.807281Z"
        },
        "papermill": {
          "duration": 0.117005,
          "end_time": "2021-05-12T06:37:38.807542",
          "exception": false,
          "start_time": "2021-05-12T06:37:38.690537",
          "status": "completed"
        },
        "tags": [],
        "id": "acute-feeding"
      },
      "outputs": [],
      "source": [
        "# set 'X' for features' and y' for the target ('gender').\n",
        "y = data['gender']\n",
        "X = data.drop(['gender'],axis=1)"
      ]
    },
    {
      "cell_type": "markdown",
      "id": "known-water",
      "metadata": {
        "id": "known-water"
      },
      "source": [
        "* ### 'Train\\Test' split"
      ]
    },
    {
      "cell_type": "code",
      "execution_count": 25,
      "id": "helpful-endorsement",
      "metadata": {
        "id": "helpful-endorsement"
      },
      "outputs": [],
      "source": [
        "# 'Train\\Test' splitting method\n",
        "X_train, X_test,y_train, y_test = train_test_split(X,y,test_size=0.3, random_state=0)"
      ]
    },
    {
      "cell_type": "markdown",
      "id": "central-binding",
      "metadata": {
        "id": "central-binding"
      },
      "source": [
        "## Part 4: Machine Learning."
      ]
    },
    {
      "cell_type": "markdown",
      "id": "pending-glucose",
      "metadata": {
        "id": "pending-glucose"
      },
      "source": [
        "* ### Build, train and evaluate model"
      ]
    },
    {
      "cell_type": "markdown",
      "id": "sunset-restaurant",
      "metadata": {
        "papermill": {
          "duration": 0.025229,
          "end_time": "2021-05-12T06:37:38.959430",
          "exception": false,
          "start_time": "2021-05-12T06:37:38.934201",
          "status": "completed"
        },
        "tags": [],
        "id": "sunset-restaurant"
      },
      "source": [
        "### Logistic Regression"
      ]
    },
    {
      "cell_type": "code",
      "execution_count": 26,
      "id": "signal-hurricane",
      "metadata": {
        "execution": {
          "iopub.execute_input": "2021-05-12T06:37:39.015844Z",
          "iopub.status.busy": "2021-05-12T06:37:39.015009Z",
          "iopub.status.idle": "2021-05-12T06:37:39.161675Z",
          "shell.execute_reply": "2021-05-12T06:37:39.162217Z"
        },
        "papermill": {
          "duration": 0.177869,
          "end_time": "2021-05-12T06:37:39.162420",
          "exception": false,
          "start_time": "2021-05-12T06:37:38.984551",
          "status": "completed"
        },
        "tags": [],
        "id": "signal-hurricane"
      },
      "outputs": [],
      "source": [
        "# Logistic Regression model\n",
        "LR = LogisticRegression(random_state=0)\n",
        "LR.fit(X_train, y_train)\n",
        "LR_pred = LR.predict(X_test)"
      ]
    },
    {
      "cell_type": "code",
      "execution_count": 27,
      "id": "nuclear-milan",
      "metadata": {
        "id": "nuclear-milan",
        "outputId": "44096d8b-69ac-4507-c8b0-a6cf8b5379eb",
        "colab": {
          "base_uri": "https://localhost:8080/"
        }
      },
      "outputs": [
        {
          "output_type": "execute_result",
          "data": {
            "text/plain": [
              "array([1, 1, 1, 1, 1, 0, 0, 0, 1, 0, 1, 0, 0, 1, 1, 0, 0, 0, 0, 0])"
            ]
          },
          "metadata": {},
          "execution_count": 27
        }
      ],
      "source": [
        "# LR predictions\n",
        "LR_pred"
      ]
    },
    {
      "cell_type": "markdown",
      "id": "preliminary-looking",
      "metadata": {
        "id": "preliminary-looking"
      },
      "source": [
        "* ### Visualisation of predictions"
      ]
    },
    {
      "cell_type": "code",
      "execution_count": 28,
      "id": "little-republic",
      "metadata": {
        "id": "little-republic",
        "outputId": "faaa149d-b8fa-4ee5-99ec-72face397933",
        "colab": {
          "base_uri": "https://localhost:8080/",
          "height": 363
        }
      },
      "outputs": [
        {
          "output_type": "execute_result",
          "data": {
            "text/plain": [
              "<pandas.io.formats.style.Styler at 0x7dc11f377550>"
            ],
            "text/html": [
              "<style type=\"text/css\">\n",
              "#T_b76b1_row0_col0, #T_b76b1_row0_col1, #T_b76b1_row1_col1, #T_b76b1_row2_col1, #T_b76b1_row3_col0, #T_b76b1_row3_col1, #T_b76b1_row4_col0, #T_b76b1_row4_col1, #T_b76b1_row6_col0, #T_b76b1_row7_col0, #T_b76b1_row8_col0, #T_b76b1_row8_col1 {\n",
              "  background-color: #08306b;\n",
              "  color: #f1f1f1;\n",
              "}\n",
              "#T_b76b1_row1_col0, #T_b76b1_row2_col0, #T_b76b1_row5_col0, #T_b76b1_row5_col1, #T_b76b1_row6_col1, #T_b76b1_row7_col1, #T_b76b1_row9_col0, #T_b76b1_row9_col1 {\n",
              "  background-color: #f7fbff;\n",
              "  color: #000000;\n",
              "}\n",
              "</style>\n",
              "<table id=\"T_b76b1\" class=\"dataframe\">\n",
              "  <thead>\n",
              "    <tr>\n",
              "      <th class=\"blank level0\" >&nbsp;</th>\n",
              "      <th id=\"T_b76b1_level0_col0\" class=\"col_heading level0 col0\" >Actual Gender</th>\n",
              "      <th id=\"T_b76b1_level0_col1\" class=\"col_heading level0 col1\" >LR Predicted Gender</th>\n",
              "    </tr>\n",
              "  </thead>\n",
              "  <tbody>\n",
              "    <tr>\n",
              "      <th id=\"T_b76b1_level0_row0\" class=\"row_heading level0 row0\" >45</th>\n",
              "      <td id=\"T_b76b1_row0_col0\" class=\"data row0 col0\" >1</td>\n",
              "      <td id=\"T_b76b1_row0_col1\" class=\"data row0 col1\" >1</td>\n",
              "    </tr>\n",
              "    <tr>\n",
              "      <th id=\"T_b76b1_level0_row1\" class=\"row_heading level0 row1\" >28</th>\n",
              "      <td id=\"T_b76b1_row1_col0\" class=\"data row1 col0\" >0</td>\n",
              "      <td id=\"T_b76b1_row1_col1\" class=\"data row1 col1\" >1</td>\n",
              "    </tr>\n",
              "    <tr>\n",
              "      <th id=\"T_b76b1_level0_row2\" class=\"row_heading level0 row2\" >29</th>\n",
              "      <td id=\"T_b76b1_row2_col0\" class=\"data row2 col0\" >0</td>\n",
              "      <td id=\"T_b76b1_row2_col1\" class=\"data row2 col1\" >1</td>\n",
              "    </tr>\n",
              "    <tr>\n",
              "      <th id=\"T_b76b1_level0_row3\" class=\"row_heading level0 row3\" >55</th>\n",
              "      <td id=\"T_b76b1_row3_col0\" class=\"data row3 col0\" >1</td>\n",
              "      <td id=\"T_b76b1_row3_col1\" class=\"data row3 col1\" >1</td>\n",
              "    </tr>\n",
              "    <tr>\n",
              "      <th id=\"T_b76b1_level0_row4\" class=\"row_heading level0 row4\" >63</th>\n",
              "      <td id=\"T_b76b1_row4_col0\" class=\"data row4 col0\" >1</td>\n",
              "      <td id=\"T_b76b1_row4_col1\" class=\"data row4 col1\" >1</td>\n",
              "    </tr>\n",
              "    <tr>\n",
              "      <th id=\"T_b76b1_level0_row5\" class=\"row_heading level0 row5\" >31</th>\n",
              "      <td id=\"T_b76b1_row5_col0\" class=\"data row5 col0\" >0</td>\n",
              "      <td id=\"T_b76b1_row5_col1\" class=\"data row5 col1\" >0</td>\n",
              "    </tr>\n",
              "    <tr>\n",
              "      <th id=\"T_b76b1_level0_row6\" class=\"row_heading level0 row6\" >51</th>\n",
              "      <td id=\"T_b76b1_row6_col0\" class=\"data row6 col0\" >1</td>\n",
              "      <td id=\"T_b76b1_row6_col1\" class=\"data row6 col1\" >0</td>\n",
              "    </tr>\n",
              "    <tr>\n",
              "      <th id=\"T_b76b1_level0_row7\" class=\"row_heading level0 row7\" >46</th>\n",
              "      <td id=\"T_b76b1_row7_col0\" class=\"data row7 col0\" >1</td>\n",
              "      <td id=\"T_b76b1_row7_col1\" class=\"data row7 col1\" >0</td>\n",
              "    </tr>\n",
              "    <tr>\n",
              "      <th id=\"T_b76b1_level0_row8\" class=\"row_heading level0 row8\" >34</th>\n",
              "      <td id=\"T_b76b1_row8_col0\" class=\"data row8 col0\" >1</td>\n",
              "      <td id=\"T_b76b1_row8_col1\" class=\"data row8 col1\" >1</td>\n",
              "    </tr>\n",
              "    <tr>\n",
              "      <th id=\"T_b76b1_level0_row9\" class=\"row_heading level0 row9\" >4</th>\n",
              "      <td id=\"T_b76b1_row9_col0\" class=\"data row9 col0\" >0</td>\n",
              "      <td id=\"T_b76b1_row9_col1\" class=\"data row9 col1\" >0</td>\n",
              "    </tr>\n",
              "  </tbody>\n",
              "</table>\n"
            ]
          },
          "metadata": {},
          "execution_count": 28
        }
      ],
      "source": [
        "# visual comparison between Actual 'Gender' and Predicted 'Gender'\n",
        "actualvspredicted = pd.DataFrame({\"Actual Gender\":y_test,\"LR Predicted Gender\":LR_pred})\n",
        "actualvspredicted.head(10).style.background_gradient(cmap='Blues')"
      ]
    },
    {
      "cell_type": "markdown",
      "id": "single-chest",
      "metadata": {
        "id": "single-chest"
      },
      "source": [
        "* ### Classification report"
      ]
    },
    {
      "cell_type": "code",
      "execution_count": 29,
      "id": "blank-horse",
      "metadata": {
        "scrolled": false,
        "id": "blank-horse",
        "outputId": "95bed243-4c9a-47ad-c35d-2c3d0f092fe7",
        "colab": {
          "base_uri": "https://localhost:8080/"
        }
      },
      "outputs": [
        {
          "output_type": "stream",
          "name": "stdout",
          "text": [
            "LR Classification Report: \n",
            "               precision    recall  f1-score   support\n",
            "\n",
            "           0   0.636364  0.777778  0.700000         9\n",
            "           1   0.777778  0.636364  0.700000        11\n",
            "\n",
            "    accuracy                       0.700000        20\n",
            "   macro avg   0.707071  0.707071  0.700000        20\n",
            "weighted avg   0.714141  0.700000  0.700000        20\n",
            "\n"
          ]
        }
      ],
      "source": [
        "# classification report of LR model\n",
        "print(\"LR Classification Report: \\n\", classification_report(y_test, LR_pred, digits = 6))"
      ]
    },
    {
      "cell_type": "markdown",
      "id": "direct-planner",
      "metadata": {
        "id": "direct-planner"
      },
      "source": [
        "* ### Confusion matrix"
      ]
    },
    {
      "cell_type": "code",
      "execution_count": 30,
      "id": "specific-variety",
      "metadata": {
        "id": "specific-variety",
        "outputId": "a5449edf-2c5e-4154-d5f8-d08d7460faf6",
        "colab": {
          "base_uri": "https://localhost:8080/",
          "height": 498
        }
      },
      "outputs": [
        {
          "output_type": "stream",
          "name": "stdout",
          "text": [
            "LR Confusion Matrix\n"
          ]
        },
        {
          "output_type": "display_data",
          "data": {
            "text/plain": [
              "<Figure size 640x480 with 2 Axes>"
            ],
            "image/png": "[encoded data removed]"
          },
          "metadata": {}
        },
        {
          "output_type": "stream",
          "name": "stdout",
          "text": [
            "\n"
          ]
        }
      ],
      "source": [
        "# confusion matrix of LR model\n",
        "LR_confusion_mx = confusion_matrix(y_test, LR_pred)\n",
        "print('LR Confusion Matrix')\n",
        "\n",
        "# visualisation\n",
        "ax = plt.subplot()\n",
        "sns.heatmap(LR_confusion_mx, annot = True, fmt = 'd', cmap = 'Blues', ax = ax, linewidths = 0.5, annot_kws = {'size': 15})\n",
        "ax.set_ylabel('FP       True label        TP')\n",
        "ax.set_xlabel('FN       Predicted label        TN')\n",
        "ax.xaxis.set_ticklabels(['1', '0'], fontsize = 10)\n",
        "ax.yaxis.set_ticklabels(['1', '0'], fontsize = 10)\n",
        "plt.show()\n",
        "print()"
      ]
    },
    {
      "cell_type": "markdown",
      "id": "tropical-superintendent",
      "metadata": {
        "id": "tropical-superintendent"
      },
      "source": [
        "* ### ROC-AUC score"
      ]
    },
    {
      "cell_type": "code",
      "execution_count": 31,
      "id": "outer-council",
      "metadata": {
        "scrolled": false,
        "id": "outer-council",
        "outputId": "c9305ee3-0048-4377-c62d-5e623f3ba046",
        "colab": {
          "base_uri": "https://localhost:8080/"
        }
      },
      "outputs": [
        {
          "output_type": "execute_result",
          "data": {
            "text/plain": [
              "0.7070707070707071"
            ]
          },
          "metadata": {},
          "execution_count": 31
        }
      ],
      "source": [
        "# ROC-AUC score of LR model\n",
        "roc_auc_score(LR_pred, y_test)"
      ]
    },
    {
      "cell_type": "markdown",
      "id": "coral-organ",
      "metadata": {
        "id": "coral-organ"
      },
      "source": [
        "##  Conclusion."
      ]
    },
    {
      "cell_type": "markdown",
      "id": "legendary-poster",
      "metadata": {
        "id": "legendary-poster"
      },
      "source": [
        "**The main question** was: Predict a person's gender based on their personal preferences (check balance of classes; calculate perdictions).\n",
        "\n",
        "**Answers**:\n",
        "\n",
        "1. The data is too small. Only 66 instances.\n",
        "\n",
        "2. The classes are balanced.\n",
        "\n",
        "3. Logistic Regression model was choosen. Predictions (with visual comparison) were done with an accuracy of the model equal 0.7, no hyper parameters were applied."
      ]
    }
  ],
  "metadata": {
    "kernelspec": {
      "display_name": "Python 3",
      "language": "python",
      "name": "python3"
    },
    "language_info": {
      "codemirror_mode": {
        "name": "ipython",
        "version": 3
      },
      "file_extension": ".py",
      "mimetype": "text/x-python",
      "name": "python",
      "nbconvert_exporter": "python",
      "pygments_lexer": "ipython3",
      "version": "3.9.1"
    },
    "papermill": {
      "default_parameters": {},
      "duration": 12.03125,
      "end_time": "2021-05-12T06:37:40.714635",
      "environment_variables": {},
      "exception": null,
      "input_path": "__notebook__.ipynb",
      "output_path": "__notebook__.ipynb",
      "parameters": {},
      "start_time": "2021-05-12T06:37:28.683385",
      "version": "2.3.2"
    },
    "colab": {
      "provenance": []
    }
  },
  "nbformat": 4,
  "nbformat_minor": 5
}