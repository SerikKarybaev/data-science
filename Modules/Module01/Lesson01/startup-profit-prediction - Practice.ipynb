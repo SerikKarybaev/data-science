{
 "cells": [
  {
   "cell_type": "markdown",
   "metadata": {},
   "source": [
    "# \"50 startups.\""
   ]
  },
  {
   "cell_type": "markdown",
   "metadata": {},
   "source": [
    "### _\"Predict which companies to invest for maximizing profit\" (Regression task)._"
   ]
  },
  {
   "cell_type": "markdown",
   "metadata": {},
   "source": [
    "## Table of Contents\n",
    "\n",
    "\n",
    "## Part 0: Introduction\n",
    "\n",
    "### Overview\n",
    "The dataset that's we see here contains data about 50 startups. It has 7 columns: “ID”, “R&D Spend”, “Administration”, “Marketing Spend”, “State”, “Category”  “Profit”.\n",
    "\n",
    "    \n",
    "**Метаданные:**\n",
    "    \n",
    "* **ID** - startup ID\n",
    "\n",
    "* **R&D Spend** - how much each startup spends on Research and Development\n",
    "\n",
    "* **Administration** - how much they spend on Administration cost\n",
    "\n",
    "* **Marketing Spend** - how much they spend on Marketing\n",
    "\n",
    "* **State** - which state the startup is based in\n",
    "\n",
    "* **Category** - which business category the startup belong to\n",
    "\n",
    "* **Profit** - the profit made by the startup\n",
    "   \n",
    "\n",
    "### Questions:\n",
    "    \n",
    "\n",
    "* #### Predict which companies to invest for maximizing profit (choose model with the best score; create predictions; choose companies)\n",
    "\n",
    "\n",
    "## [Part 1: Import, Load Data](#Part-1:-Import,-Load-Data.)\n",
    "* ### Import libraries, Read data from ‘.csv’ file\n",
    "\n",
    "## [Part 2: Exploratory Data Analysis](#Part-2:-Exploratory-Data-Analysis.)\n",
    "* ### Info, Head\n",
    "* ### Observation of target variable (describe + visualisation:distplot)\n",
    "* ### Numerical and Categorical features\n",
    "    * #### List of Numerical and Categorical features\n",
    "* ### Missing Data\n",
    "    * #### List of data features with missing values  \n",
    "    * #### Filling missing values\n",
    "* ### Numerical and Categorical features    \n",
    "    * #### Visualisation  of Numerical and categorical features (regplot + barplot)\n",
    "\n",
    "## [Part 3: Data Wrangling and Transformation](#Part-3:-Data-Wrangling-and-Transformation.)\n",
    "* ### One-Hot Encoding \n",
    "* ### Standard Scaler (optional)\n",
    "* ### Creating datasets for ML part\n",
    "* ### 'Train\\Test' splitting method\n",
    "\n",
    "## [Part 4: Machine Learning](#Part-4:-Machine-Learning.)\n",
    "* ### ML Models (Linear regression, Gradient Boosting Regression)\n",
    "* ### Build, train, evaluate and visualise models\n",
    "* ### Creating final predictions with Test set\n",
    "* ### Model comparison\n",
    "\n",
    "\n",
    "## [Conclusion](#Conclusion.)\n",
    "* ### Submission of ‘.csv’ file with predictions"
   ]
  },
  {
   "cell_type": "code",
   "execution_count": null,
   "metadata": {},
   "outputs": [],
   "source": []
  },
  {
   "cell_type": "markdown",
   "metadata": {},
   "source": [
    "## Part 1: Import, Load Data."
   ]
  },
  {
   "cell_type": "markdown",
   "metadata": {},
   "source": [
    "* ### Import "
   ]
  },
  {
   "cell_type": "code",
   "execution_count": 38,
   "metadata": {},
   "outputs": [],
   "source": [
    "# import standard libraries\n",
    "import numpy as np \n",
    "import pandas as pd \n",
    "import seaborn as sns\n",
    "import matplotlib.pyplot as plt\n",
    "import pylab as pl\n",
    "from scipy import stats                                                                                                                                                                                                                                                                                                                                                                                                                                                                                                                                                                                                                                                                                                                                                                                                                                                                                                                                                                                                                                                                        \n",
    "\n",
    "# import models and metrics\n",
    "from sklearn import metrics, linear_model, model_selection\n",
    "from sklearn.metrics import r2_score, mean_squared_error, mean_squared_log_error, mean_absolute_error\n",
    "from sklearn.model_selection import cross_val_score\n",
    "from sklearn.linear_model import LinearRegression\n",
    "from sklearn.ensemble import GradientBoostingRegressor                                                                                                                                                                                                                                                                                                                                                                                                                                                                                                                                                                                                                                                                                                                                                                                                                                                                                                                                                                                                                                                                    \n",
    "\n",
    "# import models and metrics\n"
   ]
  },
  {
   "cell_type": "markdown",
   "metadata": {},
   "source": [
    "* ### Load Data"
   ]
  },
  {
   "cell_type": "code",
   "execution_count": 39,
   "metadata": {
    "_cell_guid": "79c7e3d0-c299-4dcb-8224-4455121ee9b0",
    "_uuid": "d629ff2d2480ee46fbb7e2d37f6b5fab8052498a"
   },
   "outputs": [],
   "source": [
    "# read data from '.csv' files\n",
    "\n",
    "train = pd.read_csv(\"train.csv\")\n",
    "test = pd.read_csv(\"test.csv\")\n",
    "\n",
    "# identify target\n",
    "target = train['Profit']\n",
    "\n",
    "# identify target\n"
   ]
  },
  {
   "cell_type": "markdown",
   "metadata": {},
   "source": [
    "## Part 2: Exploratory Data Analysis."
   ]
  },
  {
   "cell_type": "markdown",
   "metadata": {},
   "source": [
    "* ### Info"
   ]
  },
  {
   "cell_type": "code",
   "execution_count": 40,
   "metadata": {},
   "outputs": [
    {
     "name": "stdout",
     "output_type": "stream",
     "text": [
      "<class 'pandas.core.frame.DataFrame'>\n",
      "RangeIndex: 50 entries, 0 to 49\n",
      "Data columns (total 7 columns):\n",
      " #   Column           Non-Null Count  Dtype  \n",
      "---  ------           --------------  -----  \n",
      " 0   ID               50 non-null     int64  \n",
      " 1   R&D Spend        48 non-null     float64\n",
      " 2   Administration   50 non-null     float64\n",
      " 3   Marketing Spend  47 non-null     float64\n",
      " 4   State            50 non-null     object \n",
      " 5   Category         49 non-null     object \n",
      " 6   Profit           50 non-null     float64\n",
      "dtypes: float64(4), int64(1), object(2)\n",
      "memory usage: 2.9+ KB\n"
     ]
    }
   ],
   "source": [
    "# print the full summary of the Train dataset\n",
    "train.info()"
   ]
  },
  {
   "cell_type": "code",
   "execution_count": 41,
   "metadata": {},
   "outputs": [
    {
     "name": "stdout",
     "output_type": "stream",
     "text": [
      "<class 'pandas.core.frame.DataFrame'>\n",
      "RangeIndex: 50 entries, 0 to 49\n",
      "Data columns (total 6 columns):\n",
      " #   Column           Non-Null Count  Dtype  \n",
      "---  ------           --------------  -----  \n",
      " 0   ID               50 non-null     int64  \n",
      " 1   R&D Spend        48 non-null     float64\n",
      " 2   Administration   48 non-null     float64\n",
      " 3   Marketing Spend  50 non-null     float64\n",
      " 4   State            49 non-null     object \n",
      " 5   Category         50 non-null     object \n",
      "dtypes: float64(3), int64(1), object(2)\n",
      "memory usage: 2.5+ KB\n"
     ]
    }
   ],
   "source": [
    "# print the full summary of the Test dataset\n",
    "test.info()"
   ]
  },
  {
   "cell_type": "markdown",
   "metadata": {},
   "source": [
    "* ### Head"
   ]
  },
  {
   "cell_type": "code",
   "execution_count": 42,
   "metadata": {},
   "outputs": [
    {
     "data": {
      "text/html": [
       "<div>\n",
       "<style scoped>\n",
       "    .dataframe tbody tr th:only-of-type {\n",
       "        vertical-align: middle;\n",
       "    }\n",
       "\n",
       "    .dataframe tbody tr th {\n",
       "        vertical-align: top;\n",
       "    }\n",
       "\n",
       "    .dataframe thead th {\n",
       "        text-align: right;\n",
       "    }\n",
       "</style>\n",
       "<table border=\"1\" class=\"dataframe\">\n",
       "  <thead>\n",
       "    <tr style=\"text-align: right;\">\n",
       "      <th></th>\n",
       "      <th>ID</th>\n",
       "      <th>R&amp;D Spend</th>\n",
       "      <th>Administration</th>\n",
       "      <th>Marketing Spend</th>\n",
       "      <th>State</th>\n",
       "      <th>Category</th>\n",
       "      <th>Profit</th>\n",
       "    </tr>\n",
       "  </thead>\n",
       "  <tbody>\n",
       "    <tr>\n",
       "      <th>0</th>\n",
       "      <td>0</td>\n",
       "      <td>165349.20</td>\n",
       "      <td>136897.80</td>\n",
       "      <td>471784.10</td>\n",
       "      <td>New York</td>\n",
       "      <td>Industrials</td>\n",
       "      <td>192261.83</td>\n",
       "    </tr>\n",
       "    <tr>\n",
       "      <th>1</th>\n",
       "      <td>1</td>\n",
       "      <td>162597.70</td>\n",
       "      <td>151377.59</td>\n",
       "      <td>443898.53</td>\n",
       "      <td>California</td>\n",
       "      <td>Technology</td>\n",
       "      <td>191792.06</td>\n",
       "    </tr>\n",
       "    <tr>\n",
       "      <th>2</th>\n",
       "      <td>2</td>\n",
       "      <td>153441.51</td>\n",
       "      <td>101145.55</td>\n",
       "      <td>407934.54</td>\n",
       "      <td>Florida</td>\n",
       "      <td>Healthcare</td>\n",
       "      <td>191050.39</td>\n",
       "    </tr>\n",
       "    <tr>\n",
       "      <th>3</th>\n",
       "      <td>3</td>\n",
       "      <td>144372.41</td>\n",
       "      <td>118671.85</td>\n",
       "      <td>383199.62</td>\n",
       "      <td>New York</td>\n",
       "      <td>Financials</td>\n",
       "      <td>182901.99</td>\n",
       "    </tr>\n",
       "    <tr>\n",
       "      <th>4</th>\n",
       "      <td>4</td>\n",
       "      <td>142107.34</td>\n",
       "      <td>91391.77</td>\n",
       "      <td>366168.42</td>\n",
       "      <td>Florida</td>\n",
       "      <td>Industrials</td>\n",
       "      <td>166187.94</td>\n",
       "    </tr>\n",
       "  </tbody>\n",
       "</table>\n",
       "</div>"
      ],
      "text/plain": [
       "   ID  R&D Spend  Administration  Marketing Spend       State     Category  \\\n",
       "0   0  165349.20       136897.80        471784.10    New York  Industrials   \n",
       "1   1  162597.70       151377.59        443898.53  California   Technology   \n",
       "2   2  153441.51       101145.55        407934.54     Florida   Healthcare   \n",
       "3   3  144372.41       118671.85        383199.62    New York   Financials   \n",
       "4   4  142107.34        91391.77        366168.42     Florida  Industrials   \n",
       "\n",
       "      Profit  \n",
       "0  192261.83  \n",
       "1  191792.06  \n",
       "2  191050.39  \n",
       "3  182901.99  \n",
       "4  166187.94  "
      ]
     },
     "execution_count": 42,
     "metadata": {},
     "output_type": "execute_result"
    }
   ],
   "source": [
    "# preview of the first 5 lines of the loaded Train data \n",
    "train.head()"
   ]
  },
  {
   "cell_type": "code",
   "execution_count": 43,
   "metadata": {},
   "outputs": [
    {
     "data": {
      "text/html": [
       "<div>\n",
       "<style scoped>\n",
       "    .dataframe tbody tr th:only-of-type {\n",
       "        vertical-align: middle;\n",
       "    }\n",
       "\n",
       "    .dataframe tbody tr th {\n",
       "        vertical-align: top;\n",
       "    }\n",
       "\n",
       "    .dataframe thead th {\n",
       "        text-align: right;\n",
       "    }\n",
       "</style>\n",
       "<table border=\"1\" class=\"dataframe\">\n",
       "  <thead>\n",
       "    <tr style=\"text-align: right;\">\n",
       "      <th></th>\n",
       "      <th>ID</th>\n",
       "      <th>R&amp;D Spend</th>\n",
       "      <th>Administration</th>\n",
       "      <th>Marketing Spend</th>\n",
       "      <th>State</th>\n",
       "      <th>Category</th>\n",
       "    </tr>\n",
       "  </thead>\n",
       "  <tbody>\n",
       "    <tr>\n",
       "      <th>0</th>\n",
       "      <td>0</td>\n",
       "      <td>165349.20</td>\n",
       "      <td>136897.80</td>\n",
       "      <td>471784.10</td>\n",
       "      <td>New York</td>\n",
       "      <td>Industrials</td>\n",
       "    </tr>\n",
       "    <tr>\n",
       "      <th>1</th>\n",
       "      <td>1</td>\n",
       "      <td>162597.70</td>\n",
       "      <td>151377.59</td>\n",
       "      <td>443898.53</td>\n",
       "      <td>California</td>\n",
       "      <td>Technology</td>\n",
       "    </tr>\n",
       "    <tr>\n",
       "      <th>2</th>\n",
       "      <td>2</td>\n",
       "      <td>153441.51</td>\n",
       "      <td>101145.55</td>\n",
       "      <td>407934.54</td>\n",
       "      <td>Florida</td>\n",
       "      <td>Healthcare</td>\n",
       "    </tr>\n",
       "    <tr>\n",
       "      <th>3</th>\n",
       "      <td>3</td>\n",
       "      <td>144372.41</td>\n",
       "      <td>118671.85</td>\n",
       "      <td>383199.62</td>\n",
       "      <td>New York</td>\n",
       "      <td>Financials</td>\n",
       "    </tr>\n",
       "    <tr>\n",
       "      <th>4</th>\n",
       "      <td>4</td>\n",
       "      <td>142107.34</td>\n",
       "      <td>91391.77</td>\n",
       "      <td>366168.42</td>\n",
       "      <td>Florida</td>\n",
       "      <td>Industrials</td>\n",
       "    </tr>\n",
       "  </tbody>\n",
       "</table>\n",
       "</div>"
      ],
      "text/plain": [
       "   ID  R&D Spend  Administration  Marketing Spend       State     Category\n",
       "0   0  165349.20       136897.80        471784.10    New York  Industrials\n",
       "1   1  162597.70       151377.59        443898.53  California   Technology\n",
       "2   2  153441.51       101145.55        407934.54     Florida   Healthcare\n",
       "3   3  144372.41       118671.85        383199.62    New York   Financials\n",
       "4   4  142107.34        91391.77        366168.42     Florida  Industrials"
      ]
     },
     "execution_count": 43,
     "metadata": {},
     "output_type": "execute_result"
    }
   ],
   "source": [
    "# preview of the first 5 lines of the loaded Test data \n",
    "test.head()"
   ]
  },
  {
   "cell_type": "markdown",
   "metadata": {},
   "source": [
    "* ### Observation of target variable"
   ]
  },
  {
   "cell_type": "code",
   "execution_count": 44,
   "metadata": {},
   "outputs": [
    {
     "data": {
      "text/plain": [
       "count        50.000000\n",
       "mean     112012.639200\n",
       "std       40306.180338\n",
       "min       14681.400000\n",
       "25%       90138.902500\n",
       "50%      107978.190000\n",
       "75%      139765.977500\n",
       "max      192261.830000\n",
       "Name: Profit, dtype: float64"
      ]
     },
     "execution_count": 44,
     "metadata": {},
     "output_type": "execute_result"
    }
   ],
   "source": [
    "# target variable\n",
    "train['Profit'].describe()"
   ]
  },
  {
   "cell_type": "code",
   "execution_count": 45,
   "metadata": {
    "scrolled": true
   },
   "outputs": [
    {
     "name": "stderr",
     "output_type": "stream",
     "text": [
      "C:\\Users\\seka_\\anaconda3\\lib\\site-packages\\seaborn\\distributions.py:2619: FutureWarning: `distplot` is a deprecated function and will be removed in a future version. Please adapt your code to use either `displot` (a figure-level function with similar flexibility) or `histplot` (an axes-level function for histograms).\n",
      "  warnings.warn(msg, FutureWarning)\n"
     ]
    },
    {
     "data": {
      "text/plain": [
       "<AxesSubplot:xlabel='Profit', ylabel='Density'>"
      ]
     },
     "execution_count": 45,
     "metadata": {},
     "output_type": "execute_result"
    },
    {
     "data": {
      "image/png": "[encoded data removed]",
      "text/plain": [
       "<Figure size 640x480 with 1 Axes>"
      ]
     },
     "metadata": {},
     "output_type": "display_data"
    }
   ],
   "source": [
    "# visualisation of 'Profit' distribution\n",
    "sns.distplot(train['Profit'], color='g')"
   ]
  },
  {
   "cell_type": "code",
   "execution_count": 46,
   "metadata": {},
   "outputs": [],
   "source": [
    "# set 'ID' to index\n",
    "train = train.set_index('ID')\n",
    "test = test.set_index('ID')"
   ]
  },
  {
   "cell_type": "markdown",
   "metadata": {},
   "source": [
    "* ### Numerical and Categorical features\n",
    "#### List of Numerical and Categorical features"
   ]
  },
  {
   "cell_type": "code",
   "execution_count": 47,
   "metadata": {
    "scrolled": true
   },
   "outputs": [
    {
     "name": "stdout",
     "output_type": "stream",
     "text": [
      "Quantity of Numerical features:  4\n",
      "\n",
      "Index(['R&D Spend', 'Administration', 'Marketing Spend', 'Profit'], dtype='object')\n",
      "\n",
      "Quantity of Categorical features:  2\n",
      "\n",
      "Index(['State', 'Category'], dtype='object')\n"
     ]
    }
   ],
   "source": [
    "# check for Numerical and Categorical features in Train\n",
    "numerical_feats_train = train.dtypes[train.dtypes != 'object'].index\n",
    "print ('Quantity of Numerical features: ', len(numerical_feats_train))\n",
    "print ()\n",
    "print (train[numerical_feats_train].columns)\n",
    "print ()\n",
    "categorical_feats_train = train.dtypes[train.dtypes == 'object'].index\n",
    "print ('Quantity of Categorical features: ', len(categorical_feats_train))\n",
    "print ()\n",
    "print (train[categorical_feats_train].columns)"
   ]
  },
  {
   "cell_type": "markdown",
   "metadata": {},
   "source": [
    "* ### Missing values"
   ]
  },
  {
   "cell_type": "markdown",
   "metadata": {},
   "source": [
    "#### List of data features with missing values"
   ]
  },
  {
   "cell_type": "code",
   "execution_count": 48,
   "metadata": {
    "scrolled": true
   },
   "outputs": [
    {
     "name": "stdout",
     "output_type": "stream",
     "text": [
      "R&D Spend          2\n",
      "Administration     0\n",
      "Marketing Spend    3\n",
      "State              0\n",
      "Category           1\n",
      "Profit             0\n",
      "dtype: int64\n",
      "\n",
      "There are 3 columns with NAN values for 50 rows.\n"
     ]
    },
    {
     "data": {
      "text/plain": [
       "['R&D Spend', 'Marketing Spend', 'Category']"
      ]
     },
     "execution_count": 48,
     "metadata": {},
     "output_type": "execute_result"
    }
   ],
   "source": [
    "# check the Train features with missing values \n",
    "nan_columns = [i for i in train.columns if train[i].isnull().any()]\n",
    "print(train.isnull().sum())\n",
    "print()\n",
    "print(\"There are \" + str(len(nan_columns)) +\" columns with NAN values for 50 rows.\")\n",
    "nan_columns"
   ]
  },
  {
   "cell_type": "code",
   "execution_count": 49,
   "metadata": {},
   "outputs": [
    {
     "name": "stdout",
     "output_type": "stream",
     "text": [
      "R&D Spend          2\n",
      "Administration     2\n",
      "Marketing Spend    0\n",
      "State              1\n",
      "Category           0\n",
      "dtype: int64\n",
      "\n",
      "There are 3 columns with NAN values for 50 rows.\n"
     ]
    },
    {
     "data": {
      "text/plain": [
       "['R&D Spend', 'Administration', 'State']"
      ]
     },
     "execution_count": 49,
     "metadata": {},
     "output_type": "execute_result"
    }
   ],
   "source": [
    "# check the Test features with missing values\n",
    "nan_columns = [i for i in test.columns if test[i].isnull().any()]\n",
    "print(test.isnull().sum())\n",
    "print()\n",
    "print(\"There are \" + str(len(nan_columns)) +\" columns with NAN values for 50 rows.\")\n",
    "nan_columns"
   ]
  },
  {
   "cell_type": "markdown",
   "metadata": {},
   "source": [
    "#### Filling missing values"
   ]
  },
  {
   "cell_type": "markdown",
   "metadata": {},
   "source": [
    "Fields where NAN values have meaning.\n",
    "\n",
    "Explaining in further depth:\n",
    "\n",
    "* 'R&D Spend': Numerical - replacement of NAN by 'mean';\n",
    "* 'Administration': Numerical - replacement of NAN by 'mean';\n",
    "* 'Marketing Spend': Numerical - replacement of NAN by 'mean';\n",
    "* 'State': Categorical - replacement of NAN by 'None';\n",
    "* 'Category': Categorical - replacement of NAN by 'None'."
   ]
  },
  {
   "cell_type": "code",
   "execution_count": 50,
   "metadata": {},
   "outputs": [
    {
     "name": "stderr",
     "output_type": "stream",
     "text": [
      "C:\\Users\\seka_\\AppData\\Local\\Temp\\ipykernel_2472\\1516397144.py:9: FutureWarning: Dropping of nuisance columns in DataFrame reductions (with 'numeric_only=None') is deprecated; in a future version this will raise TypeError.  Select only valid columns before calling the reduction.\n",
      "  train.fillna(train.mean(), inplace = True)\n",
      "C:\\Users\\seka_\\AppData\\Local\\Temp\\ipykernel_2472\\1516397144.py:10: FutureWarning: Dropping of nuisance columns in DataFrame reductions (with 'numeric_only=None') is deprecated; in a future version this will raise TypeError.  Select only valid columns before calling the reduction.\n",
      "  test.fillna(test.mean(), inplace = True)\n"
     ]
    }
   ],
   "source": [
    " # Numerical NAN columns to fill in Train and Test datasets\n",
    "nan_columns_fill = [\n",
    "    'R&D Spend',\n",
    "    'Administration',\n",
    "    'Marketing Spend'\n",
    "    ]\n",
    "\n",
    "# replace 'NAN' with 'mean' in these columns\n",
    "train.fillna(train.mean(), inplace = True)  \n",
    "test.fillna(test.mean(), inplace = True)\n",
    "\n",
    "\n",
    "# Categorical NAN columns to fill in Train and Test datasets\n",
    "na_columns_fill = [\n",
    "    'State', \n",
    "    'Category'\n",
    "    ]\n",
    "\n",
    "# replace 'NAN' with 'None' in these columns\n",
    "for col in na_columns_fill:\n",
    "    train[col].fillna('None', inplace=True)\n",
    "    test[col].fillna('None', inplace=True)"
   ]
  },
  {
   "cell_type": "code",
   "execution_count": 51,
   "metadata": {},
   "outputs": [
    {
     "data": {
      "text/plain": [
       "0"
      ]
     },
     "execution_count": 51,
     "metadata": {},
     "output_type": "execute_result"
    }
   ],
   "source": [
    "# check is there any mising values left in Train\n",
    "train.isnull().sum().sum()"
   ]
  },
  {
   "cell_type": "code",
   "execution_count": 52,
   "metadata": {},
   "outputs": [
    {
     "data": {
      "text/plain": [
       "0"
      ]
     },
     "execution_count": 52,
     "metadata": {},
     "output_type": "execute_result"
    }
   ],
   "source": [
    "# check is there any mising values left in Test\n",
    "test.isnull().sum().sum()"
   ]
  },
  {
   "cell_type": "markdown",
   "metadata": {},
   "source": [
    "#### Visualisation  of Numerical features (regplot)"
   ]
  },
  {
   "cell_type": "code",
   "execution_count": 53,
   "metadata": {},
   "outputs": [
    {
     "name": "stderr",
     "output_type": "stream",
     "text": [
      "C:\\Users\\seka_\\anaconda3\\lib\\site-packages\\seaborn\\_decorators.py:36: FutureWarning: Pass the following variables as keyword args: x, y. From version 0.12, the only valid positional argument will be `data`, and passing other arguments without an explicit keyword will result in an error or misinterpretation.\n",
      "  warnings.warn(\n"
     ]
    },
    {
     "data": {
      "image/png": "[encoded data removed]",
      "text/plain": [
       "<Figure size 700x600 with 4 Axes>"
      ]
     },
     "metadata": {},
     "output_type": "display_data"
    }
   ],
   "source": [
    "# numerical features visualisation\n",
    "nr_rows = 2\n",
    "nr_cols = 2\n",
    "\n",
    "fig, axs = plt.subplots(nr_rows, nr_cols, figsize=(nr_cols*3.5,nr_rows*3))\n",
    "\n",
    "num_feats = list(numerical_feats_train)\n",
    "not_plot = ['Id',  'Profit']\n",
    "plot_num_feats = [c for c in list(numerical_feats_train) if c not in not_plot]\n",
    "\n",
    "\n",
    "for r in range(0,nr_rows):\n",
    "    for c in range(0,nr_cols):  \n",
    "        i = r*nr_cols + c\n",
    "        if i < len(plot_num_feats):\n",
    "            sns.regplot(train[plot_num_feats[i]], train['Profit'], ax = axs[r][c], color = \"#5081ac\" )\n",
    "            stp = stats.pearsonr(train[plot_num_feats[i]], train['Profit'])\n",
    "          \n",
    "            str_title = \"r = \" + \"{0:.2f}\".format(stp[0]) + \"      \" \"p = \" + \"{0:.2f}\".format(stp[1])\n",
    "            axs[r][c].set_title(str_title, fontsize=11)\n",
    "\n",
    "\n",
    "\n",
    "plt.tight_layout()    \n",
    "plt.show()"
   ]
  },
  {
   "cell_type": "code",
   "execution_count": 54,
   "metadata": {
    "scrolled": true
   },
   "outputs": [
    {
     "data": {
      "text/plain": [
       "<AxesSubplot:xlabel='State', ylabel='Profit'>"
      ]
     },
     "execution_count": 54,
     "metadata": {},
     "output_type": "execute_result"
    },
    {
     "data": {
      "image/png": "[encoded data removed]",
      "text/plain": [
       "<Figure size 640x480 with 1 Axes>"
      ]
     },
     "metadata": {},
     "output_type": "display_data"
    }
   ],
   "source": [
    "# categorical features visualisation\n",
    "# 'Profit' split in 'State' level\n",
    "sns.barplot(x = 'State', y = 'Profit', data = train, palette = \"Blues_d\")"
   ]
  },
  {
   "cell_type": "code",
   "execution_count": 55,
   "metadata": {},
   "outputs": [
    {
     "data": {
      "text/plain": [
       "(array([0, 1, 2, 3, 4, 5, 6]),\n",
       " [Text(0, 0, 'Industrials'),\n",
       "  Text(1, 0, 'Technology'),\n",
       "  Text(2, 0, 'Healthcare'),\n",
       "  Text(3, 0, 'Financials'),\n",
       "  Text(4, 0, 'Telecommunications'),\n",
       "  Text(5, 0, 'None'),\n",
       "  Text(6, 0, 'Oil & Gas')])"
      ]
     },
     "execution_count": 55,
     "metadata": {},
     "output_type": "execute_result"
    },
    {
     "data": {
      "image/png": "[encoded data removed]",
      "text/plain": [
       "<Figure size 640x480 with 1 Axes>"
      ]
     },
     "metadata": {},
     "output_type": "display_data"
    }
   ],
   "source": [
    "# categorical features visualisation\n",
    "# 'Profit' split in 'Category' level\n",
    "sns.barplot(x = 'Category', y = 'Profit', data = train, palette = \"Blues_d\")\n",
    "plt.xticks(rotation=90)"
   ]
  },
  {
   "cell_type": "markdown",
   "metadata": {},
   "source": [
    "## Part 3: Data Wrangling and Transformation."
   ]
  },
  {
   "cell_type": "markdown",
   "metadata": {},
   "source": [
    "* ### One-Hot Encoding"
   ]
  },
  {
   "cell_type": "code",
   "execution_count": 56,
   "metadata": {},
   "outputs": [],
   "source": [
    "# One-Hot Encoding Train dataset\n",
    "train = pd.get_dummies(train,columns=['State', 'Category'])\n",
    "\n",
    "# Drop target variable \n",
    "train = train.drop(columns=['Profit'])"
   ]
  },
  {
   "cell_type": "code",
   "execution_count": 57,
   "metadata": {},
   "outputs": [
    {
     "data": {
      "text/html": [
       "<div>\n",
       "<style scoped>\n",
       "    .dataframe tbody tr th:only-of-type {\n",
       "        vertical-align: middle;\n",
       "    }\n",
       "\n",
       "    .dataframe tbody tr th {\n",
       "        vertical-align: top;\n",
       "    }\n",
       "\n",
       "    .dataframe thead th {\n",
       "        text-align: right;\n",
       "    }\n",
       "</style>\n",
       "<table border=\"1\" class=\"dataframe\">\n",
       "  <thead>\n",
       "    <tr style=\"text-align: right;\">\n",
       "      <th></th>\n",
       "      <th>R&amp;D Spend</th>\n",
       "      <th>Administration</th>\n",
       "      <th>Marketing Spend</th>\n",
       "      <th>State_California</th>\n",
       "      <th>State_Florida</th>\n",
       "      <th>State_New York</th>\n",
       "      <th>Category_Financials</th>\n",
       "      <th>Category_Healthcare</th>\n",
       "      <th>Category_Industrials</th>\n",
       "      <th>Category_None</th>\n",
       "      <th>Category_Oil &amp; Gas</th>\n",
       "      <th>Category_Technology</th>\n",
       "      <th>Category_Telecommunications</th>\n",
       "    </tr>\n",
       "    <tr>\n",
       "      <th>ID</th>\n",
       "      <th></th>\n",
       "      <th></th>\n",
       "      <th></th>\n",
       "      <th></th>\n",
       "      <th></th>\n",
       "      <th></th>\n",
       "      <th></th>\n",
       "      <th></th>\n",
       "      <th></th>\n",
       "      <th></th>\n",
       "      <th></th>\n",
       "      <th></th>\n",
       "      <th></th>\n",
       "    </tr>\n",
       "  </thead>\n",
       "  <tbody>\n",
       "    <tr>\n",
       "      <th>0</th>\n",
       "      <td>165349.20</td>\n",
       "      <td>136897.80</td>\n",
       "      <td>471784.10</td>\n",
       "      <td>0</td>\n",
       "      <td>0</td>\n",
       "      <td>1</td>\n",
       "      <td>0</td>\n",
       "      <td>0</td>\n",
       "      <td>1</td>\n",
       "      <td>0</td>\n",
       "      <td>0</td>\n",
       "      <td>0</td>\n",
       "      <td>0</td>\n",
       "    </tr>\n",
       "    <tr>\n",
       "      <th>1</th>\n",
       "      <td>162597.70</td>\n",
       "      <td>151377.59</td>\n",
       "      <td>443898.53</td>\n",
       "      <td>1</td>\n",
       "      <td>0</td>\n",
       "      <td>0</td>\n",
       "      <td>0</td>\n",
       "      <td>0</td>\n",
       "      <td>0</td>\n",
       "      <td>0</td>\n",
       "      <td>0</td>\n",
       "      <td>1</td>\n",
       "      <td>0</td>\n",
       "    </tr>\n",
       "    <tr>\n",
       "      <th>2</th>\n",
       "      <td>153441.51</td>\n",
       "      <td>101145.55</td>\n",
       "      <td>407934.54</td>\n",
       "      <td>0</td>\n",
       "      <td>1</td>\n",
       "      <td>0</td>\n",
       "      <td>0</td>\n",
       "      <td>1</td>\n",
       "      <td>0</td>\n",
       "      <td>0</td>\n",
       "      <td>0</td>\n",
       "      <td>0</td>\n",
       "      <td>0</td>\n",
       "    </tr>\n",
       "    <tr>\n",
       "      <th>3</th>\n",
       "      <td>144372.41</td>\n",
       "      <td>118671.85</td>\n",
       "      <td>383199.62</td>\n",
       "      <td>0</td>\n",
       "      <td>0</td>\n",
       "      <td>1</td>\n",
       "      <td>1</td>\n",
       "      <td>0</td>\n",
       "      <td>0</td>\n",
       "      <td>0</td>\n",
       "      <td>0</td>\n",
       "      <td>0</td>\n",
       "      <td>0</td>\n",
       "    </tr>\n",
       "    <tr>\n",
       "      <th>4</th>\n",
       "      <td>142107.34</td>\n",
       "      <td>91391.77</td>\n",
       "      <td>366168.42</td>\n",
       "      <td>0</td>\n",
       "      <td>1</td>\n",
       "      <td>0</td>\n",
       "      <td>0</td>\n",
       "      <td>0</td>\n",
       "      <td>1</td>\n",
       "      <td>0</td>\n",
       "      <td>0</td>\n",
       "      <td>0</td>\n",
       "      <td>0</td>\n",
       "    </tr>\n",
       "  </tbody>\n",
       "</table>\n",
       "</div>"
      ],
      "text/plain": [
       "    R&D Spend  Administration  Marketing Spend  State_California  \\\n",
       "ID                                                                 \n",
       "0   165349.20       136897.80        471784.10                 0   \n",
       "1   162597.70       151377.59        443898.53                 1   \n",
       "2   153441.51       101145.55        407934.54                 0   \n",
       "3   144372.41       118671.85        383199.62                 0   \n",
       "4   142107.34        91391.77        366168.42                 0   \n",
       "\n",
       "    State_Florida  State_New York  Category_Financials  Category_Healthcare  \\\n",
       "ID                                                                            \n",
       "0               0               1                    0                    0   \n",
       "1               0               0                    0                    0   \n",
       "2               1               0                    0                    1   \n",
       "3               0               1                    1                    0   \n",
       "4               1               0                    0                    0   \n",
       "\n",
       "    Category_Industrials  Category_None  Category_Oil & Gas  \\\n",
       "ID                                                            \n",
       "0                      1              0                   0   \n",
       "1                      0              0                   0   \n",
       "2                      0              0                   0   \n",
       "3                      0              0                   0   \n",
       "4                      1              0                   0   \n",
       "\n",
       "    Category_Technology  Category_Telecommunications  \n",
       "ID                                                    \n",
       "0                     0                            0  \n",
       "1                     1                            0  \n",
       "2                     0                            0  \n",
       "3                     0                            0  \n",
       "4                     0                            0  "
      ]
     },
     "execution_count": 57,
     "metadata": {},
     "output_type": "execute_result"
    }
   ],
   "source": [
    "# preview of the first 5 lines of the loaded Train data \n",
    "train.head()"
   ]
  },
  {
   "cell_type": "code",
   "execution_count": 58,
   "metadata": {},
   "outputs": [
    {
     "data": {
      "text/plain": [
       "(50, 13)"
      ]
     },
     "execution_count": 58,
     "metadata": {},
     "output_type": "execute_result"
    }
   ],
   "source": [
    "# Train data shape\n",
    "train.shape"
   ]
  },
  {
   "cell_type": "code",
   "execution_count": 59,
   "metadata": {},
   "outputs": [],
   "source": [
    "# One Hot-Encoding Test dataset\n",
    "test = pd.get_dummies(test,columns=['State', 'Category'])"
   ]
  },
  {
   "cell_type": "code",
   "execution_count": 60,
   "metadata": {
    "scrolled": true
   },
   "outputs": [
    {
     "data": {
      "text/html": [
       "<div>\n",
       "<style scoped>\n",
       "    .dataframe tbody tr th:only-of-type {\n",
       "        vertical-align: middle;\n",
       "    }\n",
       "\n",
       "    .dataframe tbody tr th {\n",
       "        vertical-align: top;\n",
       "    }\n",
       "\n",
       "    .dataframe thead th {\n",
       "        text-align: right;\n",
       "    }\n",
       "</style>\n",
       "<table border=\"1\" class=\"dataframe\">\n",
       "  <thead>\n",
       "    <tr style=\"text-align: right;\">\n",
       "      <th></th>\n",
       "      <th>R&amp;D Spend</th>\n",
       "      <th>Administration</th>\n",
       "      <th>Marketing Spend</th>\n",
       "      <th>State_California</th>\n",
       "      <th>State_Florida</th>\n",
       "      <th>State_New York</th>\n",
       "      <th>State_None</th>\n",
       "      <th>Category_Financials</th>\n",
       "      <th>Category_Healthcare</th>\n",
       "      <th>Category_Industrials</th>\n",
       "      <th>Category_Oil &amp; Gas</th>\n",
       "      <th>Category_Technology</th>\n",
       "      <th>Category_Telecommunications</th>\n",
       "    </tr>\n",
       "    <tr>\n",
       "      <th>ID</th>\n",
       "      <th></th>\n",
       "      <th></th>\n",
       "      <th></th>\n",
       "      <th></th>\n",
       "      <th></th>\n",
       "      <th></th>\n",
       "      <th></th>\n",
       "      <th></th>\n",
       "      <th></th>\n",
       "      <th></th>\n",
       "      <th></th>\n",
       "      <th></th>\n",
       "      <th></th>\n",
       "    </tr>\n",
       "  </thead>\n",
       "  <tbody>\n",
       "    <tr>\n",
       "      <th>0</th>\n",
       "      <td>165349.20</td>\n",
       "      <td>136897.80</td>\n",
       "      <td>471784.10</td>\n",
       "      <td>0</td>\n",
       "      <td>0</td>\n",
       "      <td>1</td>\n",
       "      <td>0</td>\n",
       "      <td>0</td>\n",
       "      <td>0</td>\n",
       "      <td>1</td>\n",
       "      <td>0</td>\n",
       "      <td>0</td>\n",
       "      <td>0</td>\n",
       "    </tr>\n",
       "    <tr>\n",
       "      <th>1</th>\n",
       "      <td>162597.70</td>\n",
       "      <td>151377.59</td>\n",
       "      <td>443898.53</td>\n",
       "      <td>1</td>\n",
       "      <td>0</td>\n",
       "      <td>0</td>\n",
       "      <td>0</td>\n",
       "      <td>0</td>\n",
       "      <td>0</td>\n",
       "      <td>0</td>\n",
       "      <td>0</td>\n",
       "      <td>1</td>\n",
       "      <td>0</td>\n",
       "    </tr>\n",
       "    <tr>\n",
       "      <th>2</th>\n",
       "      <td>153441.51</td>\n",
       "      <td>101145.55</td>\n",
       "      <td>407934.54</td>\n",
       "      <td>0</td>\n",
       "      <td>1</td>\n",
       "      <td>0</td>\n",
       "      <td>0</td>\n",
       "      <td>0</td>\n",
       "      <td>1</td>\n",
       "      <td>0</td>\n",
       "      <td>0</td>\n",
       "      <td>0</td>\n",
       "      <td>0</td>\n",
       "    </tr>\n",
       "    <tr>\n",
       "      <th>3</th>\n",
       "      <td>144372.41</td>\n",
       "      <td>118671.85</td>\n",
       "      <td>383199.62</td>\n",
       "      <td>0</td>\n",
       "      <td>0</td>\n",
       "      <td>1</td>\n",
       "      <td>0</td>\n",
       "      <td>1</td>\n",
       "      <td>0</td>\n",
       "      <td>0</td>\n",
       "      <td>0</td>\n",
       "      <td>0</td>\n",
       "      <td>0</td>\n",
       "    </tr>\n",
       "    <tr>\n",
       "      <th>4</th>\n",
       "      <td>142107.34</td>\n",
       "      <td>91391.77</td>\n",
       "      <td>366168.42</td>\n",
       "      <td>0</td>\n",
       "      <td>1</td>\n",
       "      <td>0</td>\n",
       "      <td>0</td>\n",
       "      <td>0</td>\n",
       "      <td>0</td>\n",
       "      <td>1</td>\n",
       "      <td>0</td>\n",
       "      <td>0</td>\n",
       "      <td>0</td>\n",
       "    </tr>\n",
       "  </tbody>\n",
       "</table>\n",
       "</div>"
      ],
      "text/plain": [
       "    R&D Spend  Administration  Marketing Spend  State_California  \\\n",
       "ID                                                                 \n",
       "0   165349.20       136897.80        471784.10                 0   \n",
       "1   162597.70       151377.59        443898.53                 1   \n",
       "2   153441.51       101145.55        407934.54                 0   \n",
       "3   144372.41       118671.85        383199.62                 0   \n",
       "4   142107.34        91391.77        366168.42                 0   \n",
       "\n",
       "    State_Florida  State_New York  State_None  Category_Financials  \\\n",
       "ID                                                                   \n",
       "0               0               1           0                    0   \n",
       "1               0               0           0                    0   \n",
       "2               1               0           0                    0   \n",
       "3               0               1           0                    1   \n",
       "4               1               0           0                    0   \n",
       "\n",
       "    Category_Healthcare  Category_Industrials  Category_Oil & Gas  \\\n",
       "ID                                                                  \n",
       "0                     0                     1                   0   \n",
       "1                     0                     0                   0   \n",
       "2                     1                     0                   0   \n",
       "3                     0                     0                   0   \n",
       "4                     0                     1                   0   \n",
       "\n",
       "    Category_Technology  Category_Telecommunications  \n",
       "ID                                                    \n",
       "0                     0                            0  \n",
       "1                     1                            0  \n",
       "2                     0                            0  \n",
       "3                     0                            0  \n",
       "4                     0                            0  "
      ]
     },
     "execution_count": 60,
     "metadata": {},
     "output_type": "execute_result"
    }
   ],
   "source": [
    "# preview of the first 5 lines of the loaded Test data \n",
    "test.head()"
   ]
  },
  {
   "cell_type": "code",
   "execution_count": 61,
   "metadata": {},
   "outputs": [
    {
     "data": {
      "text/plain": [
       "(50, 13)"
      ]
     },
     "execution_count": 61,
     "metadata": {},
     "output_type": "execute_result"
    }
   ],
   "source": [
    "# Test data shape\n",
    "test.shape"
   ]
  },
  {
   "cell_type": "code",
   "execution_count": 62,
   "metadata": {},
   "outputs": [],
   "source": [
    "# Drop unnecessary variables \n",
    "train = train.drop(columns=['Category_None'])\n",
    "test = test.drop(columns=['State_None'])"
   ]
  },
  {
   "cell_type": "markdown",
   "metadata": {},
   "source": [
    "* ### StandardScaler"
   ]
  },
  {
   "cell_type": "code",
   "execution_count": 63,
   "metadata": {},
   "outputs": [],
   "source": [
    "#from sklearn.preprocessing import StandardScaler\n",
    "#sc = StandardScaler()\n",
    "#sc_train = sc.fit_transform(train)\n",
    "#sc_test = sc.transform(test)\n"
   ]
  },
  {
   "cell_type": "code",
   "execution_count": 64,
   "metadata": {},
   "outputs": [],
   "source": [
    "#sc_train = pd.DataFrame(sc_train)\n",
    "#sc_train.head()"
   ]
  },
  {
   "cell_type": "code",
   "execution_count": 65,
   "metadata": {},
   "outputs": [],
   "source": [
    "#sc_test = pd.DataFrame(sc_test)\n",
    "#sc_test.head()"
   ]
  },
  {
   "cell_type": "markdown",
   "metadata": {},
   "source": [
    "* ### Creating datasets for ML part"
   ]
  },
  {
   "cell_type": "code",
   "execution_count": 35,
   "metadata": {},
   "outputs": [],
   "source": [
    "# set 'X' for features of scaled Train dataset 'sc_train'\n",
    "#X = sc_train\n",
    "\n",
    "# set 'y' for the target 'Profit'\n",
    "#y = target\n",
    "\n",
    "# 'X_Test' for features of scaled Test dataset 'sc_test'\n",
    "#X_Test = sc_test"
   ]
  },
  {
   "cell_type": "code",
   "execution_count": 66,
   "metadata": {},
   "outputs": [],
   "source": [
    "# set 'X' for features of scaled Train dataset 'sc_train'\n",
    "X = train\n",
    "\n",
    "# set 'y' for the target 'Profit'\n",
    "y = target\n",
    "\n",
    "# 'X_Test' for features of scaled Test dataset 'sc_test'\n",
    "X_Test = test"
   ]
  },
  {
   "cell_type": "markdown",
   "metadata": {},
   "source": [
    "* ### 'Train\\Test' split"
   ]
  },
  {
   "cell_type": "code",
   "execution_count": 67,
   "metadata": {},
   "outputs": [],
   "source": [
    "from sklearn.model_selection import train_test_split"
   ]
  },
  {
   "cell_type": "code",
   "execution_count": 68,
   "metadata": {},
   "outputs": [],
   "source": [
    "X_train, X_test, y_train, y_test = train_test_split(X, y, test_size=0.30, random_state=0)"
   ]
  },
  {
   "cell_type": "code",
   "execution_count": 69,
   "metadata": {},
   "outputs": [
    {
     "data": {
      "text/plain": [
       "(35, 12)"
      ]
     },
     "execution_count": 69,
     "metadata": {},
     "output_type": "execute_result"
    }
   ],
   "source": [
    "X_train.shape"
   ]
  },
  {
   "cell_type": "code",
   "execution_count": 70,
   "metadata": {},
   "outputs": [
    {
     "data": {
      "text/plain": [
       "(15, 12)"
      ]
     },
     "execution_count": 70,
     "metadata": {},
     "output_type": "execute_result"
    }
   ],
   "source": [
    "X_test.shape"
   ]
  },
  {
   "cell_type": "markdown",
   "metadata": {},
   "source": [
    "## Part 4: Machine Learning."
   ]
  },
  {
   "cell_type": "markdown",
   "metadata": {},
   "source": [
    "* ### Build, train, evaluate and visualise models"
   ]
  },
  {
   "cell_type": "markdown",
   "metadata": {},
   "source": [
    "* #### Linear Regression"
   ]
  },
  {
   "cell_type": "code",
   "execution_count": 71,
   "metadata": {
    "scrolled": true
   },
   "outputs": [
    {
     "data": {
      "text/plain": [
       "array([ 98805.75002446, 120582.06246646, 137745.21283983,  79034.09403155,\n",
       "       188946.03574103, 118622.88055624,  72254.79066   ,  67164.69815167,\n",
       "       128666.63674181, 142782.3087556 ,  91593.10175464,  80612.80343627,\n",
       "       101576.44119369, 101521.36354767, 125192.09524706])"
      ]
     },
     "execution_count": 71,
     "metadata": {},
     "output_type": "execute_result"
    }
   ],
   "source": [
    "# Linear Regression model\n",
    "LR = LinearRegression()\n",
    "\n",
    "# Model Training\n",
    "LR.fit(X_train,y_train)\n",
    "\n",
    "# Model Prediction\n",
    "LR_pred = LR.predict(X_test)\n",
    "LR_pred"
   ]
  },
  {
   "cell_type": "code",
   "execution_count": 72,
   "metadata": {},
   "outputs": [],
   "source": [
    "# Model R2 score\n",
    "LRscore = LR.score(X_test, y_test)"
   ]
  },
  {
   "cell_type": "code",
   "execution_count": 73,
   "metadata": {
    "scrolled": true
   },
   "outputs": [
    {
     "data": {
      "text/html": [
       "<div>\n",
       "<style scoped>\n",
       "    .dataframe tbody tr th:only-of-type {\n",
       "        vertical-align: middle;\n",
       "    }\n",
       "\n",
       "    .dataframe tbody tr th {\n",
       "        vertical-align: top;\n",
       "    }\n",
       "\n",
       "    .dataframe thead th {\n",
       "        text-align: right;\n",
       "    }\n",
       "</style>\n",
       "<table border=\"1\" class=\"dataframe\">\n",
       "  <thead>\n",
       "    <tr style=\"text-align: right;\">\n",
       "      <th></th>\n",
       "      <th>Model</th>\n",
       "      <th>r2score</th>\n",
       "      <th>MAE</th>\n",
       "      <th>MSE</th>\n",
       "      <th>RMSE</th>\n",
       "      <th>MSLE</th>\n",
       "      <th>RMSLE</th>\n",
       "    </tr>\n",
       "  </thead>\n",
       "  <tbody>\n",
       "    <tr>\n",
       "      <th>1</th>\n",
       "      <td>Linear Regression</td>\n",
       "      <td>0.789688</td>\n",
       "      <td>11029.42834</td>\n",
       "      <td>2.030035e+08</td>\n",
       "      <td>14247.930908</td>\n",
       "      <td>0.019417</td>\n",
       "      <td>0.139346</td>\n",
       "    </tr>\n",
       "  </tbody>\n",
       "</table>\n",
       "</div>"
      ],
      "text/plain": [
       "               Model   r2score          MAE           MSE          RMSE  \\\n",
       "1  Linear Regression  0.789688  11029.42834  2.030035e+08  14247.930908   \n",
       "\n",
       "       MSLE     RMSLE  \n",
       "1  0.019417  0.139346  "
      ]
     },
     "execution_count": 73,
     "metadata": {},
     "output_type": "execute_result"
    }
   ],
   "source": [
    "# Model Metrics\n",
    "LRMetrics = pd.DataFrame({'Model': 'Linear Regression',\n",
    "                          'r2score':r2_score(y_test,LR_pred),\n",
    "                          'MAE': metrics.mean_absolute_error (y_test,LR_pred),\n",
    "                          'MSE': metrics.mean_squared_error(y_test,LR_pred),\n",
    "                          'RMSE': np.sqrt(metrics.mean_squared_error(y_test,LR_pred)),\n",
    "                          'MSLE': metrics.mean_squared_log_error(y_test,LR_pred),\n",
    "                          'RMSLE':np.sqrt(metrics.mean_squared_log_error(y_test,LR_pred))             \n",
    "                          },index=[1])\n",
    "\n",
    "LRMetrics"
   ]
  },
  {
   "cell_type": "code",
   "execution_count": 74,
   "metadata": {},
   "outputs": [
    {
     "data": {
      "image/png": "[encoded data removed]",
      "text/plain": [
       "<Figure size 800x500 with 1 Axes>"
      ]
     },
     "metadata": {},
     "output_type": "display_data"
    }
   ],
   "source": [
    "# visualisation of Train dataset predictions\n",
    "\n",
    "# Plot outputs\n",
    "plt.figure(figsize=(8,5))\n",
    "pl.plot(y_test, LR_pred,'ro')\n",
    "pl.plot([0,200000],[0,200000],'b-')\n",
    "pl.xlabel('Predicted Profit')\n",
    "pl.ylabel('Profit')\n",
    "pl.show()"
   ]
  },
  {
   "cell_type": "code",
   "execution_count": 75,
   "metadata": {
    "scrolled": true
   },
   "outputs": [
    {
     "data": {
      "text/plain": [
       "array([173426.18101741, 189136.03555657, 188946.03574103, 172036.55217563,\n",
       "       142782.3087556 , 167404.74613989, 149507.66869685, 157587.3922617 ,\n",
       "       161999.46205811, 156553.51538032, 139352.35038226, 120582.06246646,\n",
       "       123602.43674921, 100870.47894581, 145214.20798084, 136337.33249719,\n",
       "       115045.39296363, 128341.08289509, 125192.09524706, 120516.13649408,\n",
       "       112463.0053601 , 124542.37179041, 128666.63674181, 109208.23838339,\n",
       "       109268.13666644, 103605.55516326, 101576.44119369, 118622.88055624,\n",
       "        97349.61154671,  96055.59746149,  97834.88695235,  67164.69815167,\n",
       "        79791.40130303,  91593.10175464, 101521.36354767,  80612.80343627,\n",
       "        75658.16264028,  81945.35628307,  72254.79066   ,  74848.96219321,\n",
       "        87297.82122284,  79034.09403155,  73120.64657189,  69758.98      ,\n",
       "        54155.9502917 ,  48109.28237089,  70180.21341563, 102747.18569225,\n",
       "        34091.10390916,  66953.92003678])"
      ]
     },
     "execution_count": 75,
     "metadata": {},
     "output_type": "execute_result"
    }
   ],
   "source": [
    "# Test final predictions\n",
    "LR_pred1 = LR.predict(X_Test)\n",
    "LR_pred1  "
   ]
  },
  {
   "cell_type": "code",
   "execution_count": 76,
   "metadata": {},
   "outputs": [
    {
     "data": {
      "text/html": [
       "<div>\n",
       "<style scoped>\n",
       "    .dataframe tbody tr th:only-of-type {\n",
       "        vertical-align: middle;\n",
       "    }\n",
       "\n",
       "    .dataframe tbody tr th {\n",
       "        vertical-align: top;\n",
       "    }\n",
       "\n",
       "    .dataframe thead th {\n",
       "        text-align: right;\n",
       "    }\n",
       "</style>\n",
       "<table border=\"1\" class=\"dataframe\">\n",
       "  <thead>\n",
       "    <tr style=\"text-align: right;\">\n",
       "      <th></th>\n",
       "      <th>Model</th>\n",
       "      <th>r2score</th>\n",
       "      <th>MAE</th>\n",
       "      <th>MSE</th>\n",
       "      <th>RMSE</th>\n",
       "      <th>MSLE</th>\n",
       "      <th>RMSLE</th>\n",
       "    </tr>\n",
       "  </thead>\n",
       "  <tbody>\n",
       "    <tr>\n",
       "      <th>1</th>\n",
       "      <td>Linear Regression</td>\n",
       "      <td>0.826878</td>\n",
       "      <td>11442.48225</td>\n",
       "      <td>2.756271e+08</td>\n",
       "      <td>16602.021239</td>\n",
       "      <td>0.077744</td>\n",
       "      <td>0.278826</td>\n",
       "    </tr>\n",
       "  </tbody>\n",
       "</table>\n",
       "</div>"
      ],
      "text/plain": [
       "               Model   r2score          MAE           MSE          RMSE  \\\n",
       "1  Linear Regression  0.826878  11442.48225  2.756271e+08  16602.021239   \n",
       "\n",
       "       MSLE     RMSLE  \n",
       "1  0.077744  0.278826  "
      ]
     },
     "execution_count": 76,
     "metadata": {},
     "output_type": "execute_result"
    }
   ],
   "source": [
    "# Model Metrics\n",
    "LRMetrics1 = pd.DataFrame({'Model': 'Linear Regression',\n",
    "                           'r2score':r2_score(y,LR_pred1),\n",
    "                           'MAE': metrics.mean_absolute_error (y,LR_pred1),\n",
    "                           'MSE': metrics.mean_squared_error(y,LR_pred1),\n",
    "                           'RMSE': np.sqrt(metrics.mean_squared_error(y,LR_pred1)),\n",
    "                           'MSLE': metrics.mean_squared_log_error(y,LR_pred1),\n",
    "                           'RMSLE':np.sqrt(metrics.mean_squared_log_error(y,LR_pred1))             \n",
    "                           },index=[1])\n",
    "\n",
    "LRMetrics1"
   ]
  },
  {
   "cell_type": "code",
   "execution_count": 77,
   "metadata": {},
   "outputs": [
    {
     "data": {
      "image/png": "[encoded data removed]",
      "text/plain": [
       "<Figure size 800x500 with 1 Axes>"
      ]
     },
     "metadata": {},
     "output_type": "display_data"
    }
   ],
   "source": [
    "# visualisation of Test dataset predictions\n",
    "\n",
    "# Plot outputs\n",
    "plt.figure(figsize=(8,5))\n",
    "pl.plot(y, LR_pred1,'ro')\n",
    "pl.plot([0,200000],[0,200000],'b-')\n",
    "pl.xlabel('Predicted Profit')\n",
    "pl.ylabel('Profit')\n",
    "pl.show()"
   ]
  },
  {
   "cell_type": "code",
   "execution_count": 78,
   "metadata": {},
   "outputs": [
    {
     "data": {
      "text/html": [
       "<style type=\"text/css\">\n",
       "#T_7501c_row0_col0, #T_7501c_row1_col1 {\n",
       "  background-color: #08306b;\n",
       "  color: #f1f1f1;\n",
       "}\n",
       "#T_7501c_row0_col1 {\n",
       "  background-color: #3888c1;\n",
       "  color: #f1f1f1;\n",
       "}\n",
       "#T_7501c_row1_col0 {\n",
       "  background-color: #08326e;\n",
       "  color: #f1f1f1;\n",
       "}\n",
       "#T_7501c_row2_col0 {\n",
       "  background-color: #083776;\n",
       "  color: #f1f1f1;\n",
       "}\n",
       "#T_7501c_row2_col1 {\n",
       "  background-color: #08316d;\n",
       "  color: #f1f1f1;\n",
       "}\n",
       "#T_7501c_row3_col0 {\n",
       "  background-color: #1b69af;\n",
       "  color: #f1f1f1;\n",
       "}\n",
       "#T_7501c_row3_col1 {\n",
       "  background-color: #4090c5;\n",
       "  color: #f1f1f1;\n",
       "}\n",
       "#T_7501c_row4_col0 {\n",
       "  background-color: #9ac8e0;\n",
       "  color: #000000;\n",
       "}\n",
       "#T_7501c_row4_col1, #T_7501c_row9_col0 {\n",
       "  background-color: #f7fbff;\n",
       "  color: #000000;\n",
       "}\n",
       "#T_7501c_row5_col0 {\n",
       "  background-color: #d6e5f4;\n",
       "  color: #000000;\n",
       "}\n",
       "#T_7501c_row5_col1 {\n",
       "  background-color: #61a7d2;\n",
       "  color: #f1f1f1;\n",
       "}\n",
       "#T_7501c_row6_col0 {\n",
       "  background-color: #d9e8f5;\n",
       "  color: #000000;\n",
       "}\n",
       "#T_7501c_row6_col1 {\n",
       "  background-color: #dae8f6;\n",
       "  color: #000000;\n",
       "}\n",
       "#T_7501c_row7_col0 {\n",
       "  background-color: #dbe9f6;\n",
       "  color: #000000;\n",
       "}\n",
       "#T_7501c_row7_col1 {\n",
       "  background-color: #b0d2e7;\n",
       "  color: #000000;\n",
       "}\n",
       "#T_7501c_row8_col0 {\n",
       "  background-color: #ecf4fb;\n",
       "  color: #000000;\n",
       "}\n",
       "#T_7501c_row8_col1 {\n",
       "  background-color: #8dc1dd;\n",
       "  color: #000000;\n",
       "}\n",
       "#T_7501c_row9_col1 {\n",
       "  background-color: #b7d4ea;\n",
       "  color: #000000;\n",
       "}\n",
       "</style>\n",
       "<table id=\"T_7501c\">\n",
       "  <thead>\n",
       "    <tr>\n",
       "      <th class=\"blank level0\" >&nbsp;</th>\n",
       "      <th id=\"T_7501c_level0_col0\" class=\"col_heading level0 col0\" >Actual Profit</th>\n",
       "      <th id=\"T_7501c_level0_col1\" class=\"col_heading level0 col1\" >LR Predicted Profit</th>\n",
       "    </tr>\n",
       "  </thead>\n",
       "  <tbody>\n",
       "    <tr>\n",
       "      <th id=\"T_7501c_level0_row0\" class=\"row_heading level0 row0\" >0</th>\n",
       "      <td id=\"T_7501c_row0_col0\" class=\"data row0 col0\" >192261.830000</td>\n",
       "      <td id=\"T_7501c_row0_col1\" class=\"data row0 col1\" >173426.181017</td>\n",
       "    </tr>\n",
       "    <tr>\n",
       "      <th id=\"T_7501c_level0_row1\" class=\"row_heading level0 row1\" >1</th>\n",
       "      <td id=\"T_7501c_row1_col0\" class=\"data row1 col0\" >191792.060000</td>\n",
       "      <td id=\"T_7501c_row1_col1\" class=\"data row1 col1\" >189136.035557</td>\n",
       "    </tr>\n",
       "    <tr>\n",
       "      <th id=\"T_7501c_level0_row2\" class=\"row_heading level0 row2\" >2</th>\n",
       "      <td id=\"T_7501c_row2_col0\" class=\"data row2 col0\" >191050.390000</td>\n",
       "      <td id=\"T_7501c_row2_col1\" class=\"data row2 col1\" >188946.035741</td>\n",
       "    </tr>\n",
       "    <tr>\n",
       "      <th id=\"T_7501c_level0_row3\" class=\"row_heading level0 row3\" >3</th>\n",
       "      <td id=\"T_7501c_row3_col0\" class=\"data row3 col0\" >182901.990000</td>\n",
       "      <td id=\"T_7501c_row3_col1\" class=\"data row3 col1\" >172036.552176</td>\n",
       "    </tr>\n",
       "    <tr>\n",
       "      <th id=\"T_7501c_level0_row4\" class=\"row_heading level0 row4\" >4</th>\n",
       "      <td id=\"T_7501c_row4_col0\" class=\"data row4 col0\" >166187.940000</td>\n",
       "      <td id=\"T_7501c_row4_col1\" class=\"data row4 col1\" >142782.308756</td>\n",
       "    </tr>\n",
       "    <tr>\n",
       "      <th id=\"T_7501c_level0_row5\" class=\"row_heading level0 row5\" >5</th>\n",
       "      <td id=\"T_7501c_row5_col0\" class=\"data row5 col0\" >156991.120000</td>\n",
       "      <td id=\"T_7501c_row5_col1\" class=\"data row5 col1\" >167404.746140</td>\n",
       "    </tr>\n",
       "    <tr>\n",
       "      <th id=\"T_7501c_level0_row6\" class=\"row_heading level0 row6\" >6</th>\n",
       "      <td id=\"T_7501c_row6_col0\" class=\"data row6 col0\" >156122.510000</td>\n",
       "      <td id=\"T_7501c_row6_col1\" class=\"data row6 col1\" >149507.668697</td>\n",
       "    </tr>\n",
       "    <tr>\n",
       "      <th id=\"T_7501c_level0_row7\" class=\"row_heading level0 row7\" >7</th>\n",
       "      <td id=\"T_7501c_row7_col0\" class=\"data row7 col0\" >155752.600000</td>\n",
       "      <td id=\"T_7501c_row7_col1\" class=\"data row7 col1\" >157587.392262</td>\n",
       "    </tr>\n",
       "    <tr>\n",
       "      <th id=\"T_7501c_level0_row8\" class=\"row_heading level0 row8\" >8</th>\n",
       "      <td id=\"T_7501c_row8_col0\" class=\"data row8 col0\" >152211.770000</td>\n",
       "      <td id=\"T_7501c_row8_col1\" class=\"data row8 col1\" >161999.462058</td>\n",
       "    </tr>\n",
       "    <tr>\n",
       "      <th id=\"T_7501c_level0_row9\" class=\"row_heading level0 row9\" >9</th>\n",
       "      <td id=\"T_7501c_row9_col0\" class=\"data row9 col0\" >149759.960000</td>\n",
       "      <td id=\"T_7501c_row9_col1\" class=\"data row9 col1\" >156553.515380</td>\n",
       "    </tr>\n",
       "  </tbody>\n",
       "</table>\n"
      ],
      "text/plain": [
       "<pandas.io.formats.style.Styler at 0x277c8109be0>"
      ]
     },
     "execution_count": 78,
     "metadata": {},
     "output_type": "execute_result"
    }
   ],
   "source": [
    "# comparison between Actual 'Profit' from Train dataset abd Predicted 'Profit' from Test dataset\n",
    "actualvspredicted = pd.DataFrame({\"Actual Profit\":y,\"LR Predicted Profit\":LR_pred1 })\n",
    "actualvspredicted.head(10).style.background_gradient(cmap='Blues')"
   ]
  },
  {
   "cell_type": "markdown",
   "metadata": {},
   "source": [
    "* #### Gradient Boosting Regressor"
   ]
  },
  {
   "cell_type": "code",
   "execution_count": 79,
   "metadata": {},
   "outputs": [],
   "source": [
    "# Gradient Boosting Regressor model\n",
    "GB=GradientBoostingRegressor(random_state=0)\n",
    "\n",
    "# Model Training\n",
    "GB.fit(X_train,y_train)\n",
    "\n",
    "\n",
    "# Model Prediction\n",
    "GB_pred = GB.predict(X_test)\n",
    "\n",
    "# Model R2 score\n",
    "GBscore =GB.score(X_test, y_test)\n"
   ]
  },
  {
   "cell_type": "code",
   "execution_count": 80,
   "metadata": {},
   "outputs": [
    {
     "data": {
      "text/html": [
       "<div>\n",
       "<style scoped>\n",
       "    .dataframe tbody tr th:only-of-type {\n",
       "        vertical-align: middle;\n",
       "    }\n",
       "\n",
       "    .dataframe tbody tr th {\n",
       "        vertical-align: top;\n",
       "    }\n",
       "\n",
       "    .dataframe thead th {\n",
       "        text-align: right;\n",
       "    }\n",
       "</style>\n",
       "<table border=\"1\" class=\"dataframe\">\n",
       "  <thead>\n",
       "    <tr style=\"text-align: right;\">\n",
       "      <th></th>\n",
       "      <th>Model</th>\n",
       "      <th>r2score</th>\n",
       "      <th>MAE</th>\n",
       "      <th>MSE</th>\n",
       "      <th>RMSE</th>\n",
       "      <th>MSLE</th>\n",
       "      <th>RMSLE</th>\n",
       "    </tr>\n",
       "  </thead>\n",
       "  <tbody>\n",
       "    <tr>\n",
       "      <th>2</th>\n",
       "      <td>Gradient Boosting Regressor</td>\n",
       "      <td>0.871975</td>\n",
       "      <td>8794.067752</td>\n",
       "      <td>1.235755e+08</td>\n",
       "      <td>11116.451707</td>\n",
       "      <td>0.015324</td>\n",
       "      <td>0.123789</td>\n",
       "    </tr>\n",
       "  </tbody>\n",
       "</table>\n",
       "</div>"
      ],
      "text/plain": [
       "                         Model   r2score          MAE           MSE  \\\n",
       "2  Gradient Boosting Regressor  0.871975  8794.067752  1.235755e+08   \n",
       "\n",
       "           RMSE      MSLE     RMSLE  \n",
       "2  11116.451707  0.015324  0.123789  "
      ]
     },
     "execution_count": 80,
     "metadata": {},
     "output_type": "execute_result"
    }
   ],
   "source": [
    "# Model Metrics\n",
    "GBMetrics = pd.DataFrame({'Model': 'Gradient Boosting Regressor',\n",
    "                          'r2score':r2_score(y_test,GB_pred),\n",
    "                          'MAE': metrics.mean_absolute_error (y_test,GB_pred),\n",
    "                          'MSE': metrics.mean_squared_error(y_test,GB_pred),\n",
    "                          'RMSE': np.sqrt(metrics.mean_squared_error(y_test,GB_pred)),\n",
    "                          'MSLE': metrics.mean_squared_log_error(y_test,GB_pred),\n",
    "                          'RMSLE':np.sqrt(metrics.mean_squared_log_error(y_test,GB_pred))             \n",
    "                          },index=[2])\n",
    "\n",
    "GBMetrics"
   ]
  },
  {
   "cell_type": "code",
   "execution_count": 81,
   "metadata": {},
   "outputs": [],
   "source": [
    "# Test final predictions\n",
    "GB_pred1 = GB.predict(X_Test)"
   ]
  },
  {
   "cell_type": "code",
   "execution_count": 82,
   "metadata": {},
   "outputs": [
    {
     "data": {
      "text/html": [
       "<div>\n",
       "<style scoped>\n",
       "    .dataframe tbody tr th:only-of-type {\n",
       "        vertical-align: middle;\n",
       "    }\n",
       "\n",
       "    .dataframe tbody tr th {\n",
       "        vertical-align: top;\n",
       "    }\n",
       "\n",
       "    .dataframe thead th {\n",
       "        text-align: right;\n",
       "    }\n",
       "</style>\n",
       "<table border=\"1\" class=\"dataframe\">\n",
       "  <thead>\n",
       "    <tr style=\"text-align: right;\">\n",
       "      <th></th>\n",
       "      <th>Model</th>\n",
       "      <th>r2score</th>\n",
       "      <th>MAE</th>\n",
       "      <th>MSE</th>\n",
       "      <th>RMSE</th>\n",
       "      <th>MSLE</th>\n",
       "      <th>RMSLE</th>\n",
       "    </tr>\n",
       "  </thead>\n",
       "  <tbody>\n",
       "    <tr>\n",
       "      <th>1</th>\n",
       "      <td>GradientBoostingRegressor</td>\n",
       "      <td>0.972002</td>\n",
       "      <td>3554.613741</td>\n",
       "      <td>4.457490e+07</td>\n",
       "      <td>6676.443468</td>\n",
       "      <td>0.007986</td>\n",
       "      <td>0.089364</td>\n",
       "    </tr>\n",
       "  </tbody>\n",
       "</table>\n",
       "</div>"
      ],
      "text/plain": [
       "                       Model   r2score          MAE           MSE  \\\n",
       "1  GradientBoostingRegressor  0.972002  3554.613741  4.457490e+07   \n",
       "\n",
       "          RMSE      MSLE     RMSLE  \n",
       "1  6676.443468  0.007986  0.089364  "
      ]
     },
     "execution_count": 82,
     "metadata": {},
     "output_type": "execute_result"
    }
   ],
   "source": [
    "# Model Metrics\n",
    "GBMetrics1 = pd.DataFrame({'Model': 'GradientBoostingRegressor',\n",
    "                           'r2score':r2_score(y,GB_pred1),\n",
    "                           'MAE': metrics.mean_absolute_error (y,GB_pred1),\n",
    "                           'MSE': metrics.mean_squared_error(y,GB_pred1),\n",
    "                           'RMSE': np.sqrt(metrics.mean_squared_error(y,GB_pred1)),\n",
    "                           'MSLE': metrics.mean_squared_log_error(y,GB_pred1),\n",
    "                           'RMSLE':np.sqrt(metrics.mean_squared_log_error(y,GB_pred1))             \n",
    "                          },index=[1])\n",
    "\n",
    "GBMetrics1"
   ]
  },
  {
   "cell_type": "code",
   "execution_count": 83,
   "metadata": {},
   "outputs": [
    {
     "data": {
      "image/png": "[encoded data removed]",
      "text/plain": [
       "<Figure size 800x500 with 1 Axes>"
      ]
     },
     "metadata": {},
     "output_type": "display_data"
    }
   ],
   "source": [
    "# visualisation of Test dataset predictions\n",
    "\n",
    "# Plot outputs\n",
    "plt.figure(figsize=(8,5))\n",
    "pl.plot(y, GB_pred1,'ro')\n",
    "pl.plot([0,200000],[0,200000], 'b-')\n",
    "pl.xlabel('Predicted Profit')\n",
    "pl.ylabel('Profit')\n",
    "pl.show()"
   ]
  },
  {
   "cell_type": "markdown",
   "metadata": {},
   "source": [
    "### Model comparison"
   ]
  },
  {
   "cell_type": "code",
   "execution_count": 84,
   "metadata": {
    "scrolled": true
   },
   "outputs": [
    {
     "data": {
      "text/html": [
       "<div>\n",
       "<style scoped>\n",
       "    .dataframe tbody tr th:only-of-type {\n",
       "        vertical-align: middle;\n",
       "    }\n",
       "\n",
       "    .dataframe tbody tr th {\n",
       "        vertical-align: top;\n",
       "    }\n",
       "\n",
       "    .dataframe thead th {\n",
       "        text-align: right;\n",
       "    }\n",
       "</style>\n",
       "<table border=\"1\" class=\"dataframe\">\n",
       "  <thead>\n",
       "    <tr style=\"text-align: right;\">\n",
       "      <th></th>\n",
       "      <th>Model</th>\n",
       "      <th>r2score</th>\n",
       "      <th>MAE</th>\n",
       "      <th>MSE</th>\n",
       "      <th>RMSE</th>\n",
       "      <th>MSLE</th>\n",
       "      <th>RMSLE</th>\n",
       "    </tr>\n",
       "  </thead>\n",
       "  <tbody>\n",
       "    <tr>\n",
       "      <th>1</th>\n",
       "      <td>Linear Regression</td>\n",
       "      <td>0.826878</td>\n",
       "      <td>11442.482250</td>\n",
       "      <td>2.756271e+08</td>\n",
       "      <td>16602.021239</td>\n",
       "      <td>0.077744</td>\n",
       "      <td>0.278826</td>\n",
       "    </tr>\n",
       "    <tr>\n",
       "      <th>1</th>\n",
       "      <td>GradientBoostingRegressor</td>\n",
       "      <td>0.972002</td>\n",
       "      <td>3554.613741</td>\n",
       "      <td>4.457490e+07</td>\n",
       "      <td>6676.443468</td>\n",
       "      <td>0.007986</td>\n",
       "      <td>0.089364</td>\n",
       "    </tr>\n",
       "  </tbody>\n",
       "</table>\n",
       "</div>"
      ],
      "text/plain": [
       "                       Model   r2score           MAE           MSE  \\\n",
       "1          Linear Regression  0.826878  11442.482250  2.756271e+08   \n",
       "1  GradientBoostingRegressor  0.972002   3554.613741  4.457490e+07   \n",
       "\n",
       "           RMSE      MSLE     RMSLE  \n",
       "1  16602.021239  0.077744  0.278826  \n",
       "1   6676.443468  0.007986  0.089364  "
      ]
     },
     "execution_count": 84,
     "metadata": {},
     "output_type": "execute_result"
    }
   ],
   "source": [
    "# score comparison of models\n",
    "frames = [LRMetrics1,GBMetrics1]\n",
    "TrainingResult = pd.concat(frames)\n",
    "TrainingResult"
   ]
  },
  {
   "cell_type": "code",
   "execution_count": 85,
   "metadata": {},
   "outputs": [
    {
     "data": {
      "text/html": [
       "<style type=\"text/css\">\n",
       "#T_f1145_row0_col0, #T_f1145_row0_col2, #T_f1145_row1_col1 {\n",
       "  background-color: #08306b;\n",
       "  color: #f1f1f1;\n",
       "}\n",
       "#T_f1145_row0_col1 {\n",
       "  background-color: #3888c1;\n",
       "  color: #f1f1f1;\n",
       "}\n",
       "#T_f1145_row1_col0 {\n",
       "  background-color: #08326e;\n",
       "  color: #f1f1f1;\n",
       "}\n",
       "#T_f1145_row1_col2, #T_f1145_row2_col1 {\n",
       "  background-color: #08316d;\n",
       "  color: #f1f1f1;\n",
       "}\n",
       "#T_f1145_row2_col0 {\n",
       "  background-color: #083776;\n",
       "  color: #f1f1f1;\n",
       "}\n",
       "#T_f1145_row2_col2 {\n",
       "  background-color: #1c6bb0;\n",
       "  color: #f1f1f1;\n",
       "}\n",
       "#T_f1145_row3_col0 {\n",
       "  background-color: #1b69af;\n",
       "  color: #f1f1f1;\n",
       "}\n",
       "#T_f1145_row3_col1 {\n",
       "  background-color: #4090c5;\n",
       "  color: #f1f1f1;\n",
       "}\n",
       "#T_f1145_row3_col2 {\n",
       "  background-color: #1a68ae;\n",
       "  color: #f1f1f1;\n",
       "}\n",
       "#T_f1145_row4_col0 {\n",
       "  background-color: #9ac8e0;\n",
       "  color: #000000;\n",
       "}\n",
       "#T_f1145_row4_col1, #T_f1145_row9_col0, #T_f1145_row9_col2 {\n",
       "  background-color: #f7fbff;\n",
       "  color: #000000;\n",
       "}\n",
       "#T_f1145_row4_col2 {\n",
       "  background-color: #74b3d8;\n",
       "  color: #000000;\n",
       "}\n",
       "#T_f1145_row5_col0 {\n",
       "  background-color: #d6e5f4;\n",
       "  color: #000000;\n",
       "}\n",
       "#T_f1145_row5_col1 {\n",
       "  background-color: #61a7d2;\n",
       "  color: #f1f1f1;\n",
       "}\n",
       "#T_f1145_row5_col2 {\n",
       "  background-color: #d8e7f5;\n",
       "  color: #000000;\n",
       "}\n",
       "#T_f1145_row6_col0 {\n",
       "  background-color: #d9e8f5;\n",
       "  color: #000000;\n",
       "}\n",
       "#T_f1145_row6_col1 {\n",
       "  background-color: #dae8f6;\n",
       "  color: #000000;\n",
       "}\n",
       "#T_f1145_row6_col2 {\n",
       "  background-color: #dceaf6;\n",
       "  color: #000000;\n",
       "}\n",
       "#T_f1145_row7_col0 {\n",
       "  background-color: #dbe9f6;\n",
       "  color: #000000;\n",
       "}\n",
       "#T_f1145_row7_col1 {\n",
       "  background-color: #b0d2e7;\n",
       "  color: #000000;\n",
       "}\n",
       "#T_f1145_row7_col2 {\n",
       "  background-color: #deebf7;\n",
       "  color: #000000;\n",
       "}\n",
       "#T_f1145_row8_col0 {\n",
       "  background-color: #ecf4fb;\n",
       "  color: #000000;\n",
       "}\n",
       "#T_f1145_row8_col1 {\n",
       "  background-color: #8dc1dd;\n",
       "  color: #000000;\n",
       "}\n",
       "#T_f1145_row8_col2 {\n",
       "  background-color: #eff6fc;\n",
       "  color: #000000;\n",
       "}\n",
       "#T_f1145_row9_col1 {\n",
       "  background-color: #b7d4ea;\n",
       "  color: #000000;\n",
       "}\n",
       "</style>\n",
       "<table id=\"T_f1145\">\n",
       "  <thead>\n",
       "    <tr>\n",
       "      <th class=\"blank level0\" >&nbsp;</th>\n",
       "      <th id=\"T_f1145_level0_col0\" class=\"col_heading level0 col0\" >Actual Profit</th>\n",
       "      <th id=\"T_f1145_level0_col1\" class=\"col_heading level0 col1\" >LR Predicted Profit</th>\n",
       "      <th id=\"T_f1145_level0_col2\" class=\"col_heading level0 col2\" >GB Predicted Profit</th>\n",
       "    </tr>\n",
       "  </thead>\n",
       "  <tbody>\n",
       "    <tr>\n",
       "      <th id=\"T_f1145_level0_row0\" class=\"row_heading level0 row0\" >0</th>\n",
       "      <td id=\"T_f1145_row0_col0\" class=\"data row0 col0\" >192261.830000</td>\n",
       "      <td id=\"T_f1145_row0_col1\" class=\"data row0 col1\" >173426.181017</td>\n",
       "      <td id=\"T_f1145_row0_col2\" class=\"data row0 col2\" >191867.624129</td>\n",
       "    </tr>\n",
       "    <tr>\n",
       "      <th id=\"T_f1145_level0_row1\" class=\"row_heading level0 row1\" >1</th>\n",
       "      <td id=\"T_f1145_row1_col0\" class=\"data row1 col0\" >191792.060000</td>\n",
       "      <td id=\"T_f1145_row1_col1\" class=\"data row1 col1\" >189136.035557</td>\n",
       "      <td id=\"T_f1145_row1_col2\" class=\"data row1 col2\" >191631.052384</td>\n",
       "    </tr>\n",
       "    <tr>\n",
       "      <th id=\"T_f1145_level0_row2\" class=\"row_heading level0 row2\" >2</th>\n",
       "      <td id=\"T_f1145_row2_col0\" class=\"data row2 col0\" >191050.390000</td>\n",
       "      <td id=\"T_f1145_row2_col1\" class=\"data row2 col1\" >188946.035741</td>\n",
       "      <td id=\"T_f1145_row2_col2\" class=\"data row2 col2\" >182312.330201</td>\n",
       "    </tr>\n",
       "    <tr>\n",
       "      <th id=\"T_f1145_level0_row3\" class=\"row_heading level0 row3\" >3</th>\n",
       "      <td id=\"T_f1145_row3_col0\" class=\"data row3 col0\" >182901.990000</td>\n",
       "      <td id=\"T_f1145_row3_col1\" class=\"data row3 col1\" >172036.552176</td>\n",
       "      <td id=\"T_f1145_row3_col2\" class=\"data row3 col2\" >182851.070198</td>\n",
       "    </tr>\n",
       "    <tr>\n",
       "      <th id=\"T_f1145_level0_row4\" class=\"row_heading level0 row4\" >4</th>\n",
       "      <td id=\"T_f1145_row4_col0\" class=\"data row4 col0\" >166187.940000</td>\n",
       "      <td id=\"T_f1145_row4_col1\" class=\"data row4 col1\" >142782.308756</td>\n",
       "      <td id=\"T_f1145_row4_col2\" class=\"data row4 col2\" >170184.031177</td>\n",
       "    </tr>\n",
       "    <tr>\n",
       "      <th id=\"T_f1145_level0_row5\" class=\"row_heading level0 row5\" >5</th>\n",
       "      <td id=\"T_f1145_row5_col0\" class=\"data row5 col0\" >156991.120000</td>\n",
       "      <td id=\"T_f1145_row5_col1\" class=\"data row5 col1\" >167404.746140</td>\n",
       "      <td id=\"T_f1145_row5_col2\" class=\"data row5 col2\" >156991.181748</td>\n",
       "    </tr>\n",
       "    <tr>\n",
       "      <th id=\"T_f1145_level0_row6\" class=\"row_heading level0 row6\" >6</th>\n",
       "      <td id=\"T_f1145_row6_col0\" class=\"data row6 col0\" >156122.510000</td>\n",
       "      <td id=\"T_f1145_row6_col1\" class=\"data row6 col1\" >149507.668697</td>\n",
       "      <td id=\"T_f1145_row6_col2\" class=\"data row6 col2\" >156065.183378</td>\n",
       "    </tr>\n",
       "    <tr>\n",
       "      <th id=\"T_f1145_level0_row7\" class=\"row_heading level0 row7\" >7</th>\n",
       "      <td id=\"T_f1145_row7_col0\" class=\"data row7 col0\" >155752.600000</td>\n",
       "      <td id=\"T_f1145_row7_col1\" class=\"data row7 col1\" >157587.392262</td>\n",
       "      <td id=\"T_f1145_row7_col2\" class=\"data row7 col2\" >155657.315655</td>\n",
       "    </tr>\n",
       "    <tr>\n",
       "      <th id=\"T_f1145_level0_row8\" class=\"row_heading level0 row8\" >8</th>\n",
       "      <td id=\"T_f1145_row8_col0\" class=\"data row8 col0\" >152211.770000</td>\n",
       "      <td id=\"T_f1145_row8_col1\" class=\"data row8 col1\" >161999.462058</td>\n",
       "      <td id=\"T_f1145_row8_col2\" class=\"data row8 col2\" >152090.773106</td>\n",
       "    </tr>\n",
       "    <tr>\n",
       "      <th id=\"T_f1145_level0_row9\" class=\"row_heading level0 row9\" >9</th>\n",
       "      <td id=\"T_f1145_row9_col0\" class=\"data row9 col0\" >149759.960000</td>\n",
       "      <td id=\"T_f1145_row9_col1\" class=\"data row9 col1\" >156553.515380</td>\n",
       "      <td id=\"T_f1145_row9_col2\" class=\"data row9 col2\" >150395.829435</td>\n",
       "    </tr>\n",
       "  </tbody>\n",
       "</table>\n"
      ],
      "text/plain": [
       "<pandas.io.formats.style.Styler at 0x277c8406760>"
      ]
     },
     "execution_count": 85,
     "metadata": {},
     "output_type": "execute_result"
    }
   ],
   "source": [
    "# comparison between Actual 'Profit' from Train dataset abd Predicted 'Profit' from Test dataset\n",
    "actualvspredicted = pd.DataFrame({\"Actual Profit\":y,\"LR Predicted Profit\":LR_pred1, \"GB Predicted Profit\":GB_pred1})\n",
    "actualvspredicted.head(10).style.background_gradient(cmap='Blues')"
   ]
  },
  {
   "cell_type": "markdown",
   "metadata": {},
   "source": [
    "**Result**: The best model is **Gradient Boosting Regressor** with **R2 score = 0.972002**."
   ]
  },
  {
   "cell_type": "markdown",
   "metadata": {},
   "source": [
    "##  Conclusion."
   ]
  },
  {
   "cell_type": "code",
   "execution_count": 86,
   "metadata": {},
   "outputs": [],
   "source": [
    "# submission of .csv file with final predictions\n",
    "sub = pd.DataFrame()\n",
    "sub['ID'] = test.index\n",
    "sub['Profit'] = GB_pred1\n",
    "sub.to_csv('StartupPredictions.csv', index=False)"
   ]
  },
  {
   "cell_type": "code",
   "execution_count": null,
   "metadata": {},
   "outputs": [],
   "source": []
  }
 ],
 "metadata": {
  "kernelspec": {
   "display_name": "Python 3 (ipykernel)",
   "language": "python",
   "name": "python3"
  },
  "language_info": {
   "codemirror_mode": {
    "name": "ipython",
    "version": 3
   },
   "file_extension": ".py",
   "mimetype": "text/x-python",
   "name": "python",
   "nbconvert_exporter": "python",
   "pygments_lexer": "ipython3",
   "version": "3.9.13"
  }
 },
 "nbformat": 4,
 "nbformat_minor": 4
}
